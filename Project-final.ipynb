{
 "cells": [
  {
   "cell_type": "markdown",
   "metadata": {},
   "source": [
    "## Подключение библиотек и скриптов"
   ]
  },
  {
   "cell_type": "code",
   "execution_count": 1,
   "metadata": {},
   "outputs": [],
   "source": [
    "import numpy as np\n",
    "import pandas as pd\n",
    "import random\n",
    "\n",
    "from sklearn.model_selection import cross_val_score, train_test_split\n",
    "from sklearn.ensemble import RandomForestRegressor, GradientBoostingRegressor\n",
    "from sklearn.metrics import r2_score\n",
    "from sklearn.model_selection import KFold, GridSearchCV\n",
    "\n",
    "import matplotlib\n",
    "import matplotlib.pyplot as plt\n",
    "import seaborn as sns\n",
    "%matplotlib inline"
   ]
  },
  {
   "cell_type": "code",
   "execution_count": 3,
   "metadata": {},
   "outputs": [],
   "source": [
    "import warnings\n",
    "warnings.filterwarnings('ignore')\n",
    "sns.set(style='whitegrid')\n",
    "sns.set_context(\"paper\", font_scale=1.5)  \n",
    "pd.options.display.float_format = '{:,.2f}'.format\n",
    "pd.set_option('display.max_rows', 50)"
   ]
  },
  {
   "cell_type": "markdown",
   "metadata": {},
   "source": [
    "#### Пути к директориям и файлам"
   ]
  },
  {
   "cell_type": "code",
   "execution_count": 4,
   "metadata": {},
   "outputs": [],
   "source": [
    "TRAIN_DATASET_PATH = 'project/train.csv'\n",
    "TEST_DATASET_PATH = 'project/test.csv'"
   ]
  },
  {
   "cell_type": "markdown",
   "metadata": {},
   "source": [
    "## Загрузка данных"
   ]
  },
  {
   "cell_type": "markdown",
   "metadata": {},
   "source": [
    "**Описание датасета**\n",
    "\n",
    "* **Id** - идентификационный номер квартиры\n",
    "* **DistrictId** - идентификационный номер района\n",
    "* **Rooms** - количество комнат\n",
    "* **Square** - площадь\n",
    "* **LifeSquare** - жилая площадь\n",
    "* **KitchenSquare** - площадь кухни\n",
    "* **Floor** - этаж\n",
    "* **HouseFloor** - количество этажей в доме\n",
    "* **HouseYear** - год постройки дома\n",
    "* **Ecology_1, Ecology_2, Ecology_3** - экологические показатели местности\n",
    "* **Social_1, Social_2, Social_3** - социальные показатели местности\n",
    "* **Healthcare_1, Helthcare_2** - показатели местности, связанные с охраной здоровья\n",
    "* **Shops_1, Shops_2** - показатели, связанные с наличием магазинов, торговых центров\n",
    "* **Price** - цена квартиры"
   ]
  },
  {
   "cell_type": "code",
   "execution_count": 5,
   "metadata": {},
   "outputs": [
    {
     "data": {
      "text/html": [
       "<div>\n",
       "<style scoped>\n",
       "    .dataframe tbody tr th:only-of-type {\n",
       "        vertical-align: middle;\n",
       "    }\n",
       "\n",
       "    .dataframe tbody tr th {\n",
       "        vertical-align: top;\n",
       "    }\n",
       "\n",
       "    .dataframe thead th {\n",
       "        text-align: right;\n",
       "    }\n",
       "</style>\n",
       "<table border=\"1\" class=\"dataframe\">\n",
       "  <thead>\n",
       "    <tr style=\"text-align: right;\">\n",
       "      <th></th>\n",
       "      <th>DistrictId</th>\n",
       "      <th>Rooms</th>\n",
       "      <th>Square</th>\n",
       "      <th>LifeSquare</th>\n",
       "      <th>KitchenSquare</th>\n",
       "      <th>Floor</th>\n",
       "      <th>HouseFloor</th>\n",
       "      <th>HouseYear</th>\n",
       "      <th>Ecology_1</th>\n",
       "      <th>Ecology_2</th>\n",
       "      <th>Ecology_3</th>\n",
       "      <th>Social_1</th>\n",
       "      <th>Social_2</th>\n",
       "      <th>Social_3</th>\n",
       "      <th>Healthcare_1</th>\n",
       "      <th>Helthcare_2</th>\n",
       "      <th>Shops_1</th>\n",
       "      <th>Shops_2</th>\n",
       "      <th>Price</th>\n",
       "    </tr>\n",
       "    <tr>\n",
       "      <th>Id</th>\n",
       "      <th></th>\n",
       "      <th></th>\n",
       "      <th></th>\n",
       "      <th></th>\n",
       "      <th></th>\n",
       "      <th></th>\n",
       "      <th></th>\n",
       "      <th></th>\n",
       "      <th></th>\n",
       "      <th></th>\n",
       "      <th></th>\n",
       "      <th></th>\n",
       "      <th></th>\n",
       "      <th></th>\n",
       "      <th></th>\n",
       "      <th></th>\n",
       "      <th></th>\n",
       "      <th></th>\n",
       "      <th></th>\n",
       "    </tr>\n",
       "  </thead>\n",
       "  <tbody>\n",
       "    <tr>\n",
       "      <th>14038</th>\n",
       "      <td>35</td>\n",
       "      <td>2.00</td>\n",
       "      <td>47.98</td>\n",
       "      <td>29.44</td>\n",
       "      <td>6.00</td>\n",
       "      <td>7</td>\n",
       "      <td>9.00</td>\n",
       "      <td>1969</td>\n",
       "      <td>0.09</td>\n",
       "      <td>B</td>\n",
       "      <td>B</td>\n",
       "      <td>33</td>\n",
       "      <td>7976</td>\n",
       "      <td>5</td>\n",
       "      <td>nan</td>\n",
       "      <td>0</td>\n",
       "      <td>11</td>\n",
       "      <td>B</td>\n",
       "      <td>184,966.93</td>\n",
       "    </tr>\n",
       "    <tr>\n",
       "      <th>15053</th>\n",
       "      <td>41</td>\n",
       "      <td>3.00</td>\n",
       "      <td>65.68</td>\n",
       "      <td>40.05</td>\n",
       "      <td>8.00</td>\n",
       "      <td>7</td>\n",
       "      <td>9.00</td>\n",
       "      <td>1978</td>\n",
       "      <td>0.00</td>\n",
       "      <td>B</td>\n",
       "      <td>B</td>\n",
       "      <td>46</td>\n",
       "      <td>10309</td>\n",
       "      <td>1</td>\n",
       "      <td>240.00</td>\n",
       "      <td>1</td>\n",
       "      <td>16</td>\n",
       "      <td>B</td>\n",
       "      <td>300,009.45</td>\n",
       "    </tr>\n",
       "    <tr>\n",
       "      <th>4765</th>\n",
       "      <td>53</td>\n",
       "      <td>2.00</td>\n",
       "      <td>44.95</td>\n",
       "      <td>29.20</td>\n",
       "      <td>0.00</td>\n",
       "      <td>8</td>\n",
       "      <td>12.00</td>\n",
       "      <td>1968</td>\n",
       "      <td>0.05</td>\n",
       "      <td>B</td>\n",
       "      <td>B</td>\n",
       "      <td>34</td>\n",
       "      <td>7759</td>\n",
       "      <td>0</td>\n",
       "      <td>229.00</td>\n",
       "      <td>1</td>\n",
       "      <td>3</td>\n",
       "      <td>B</td>\n",
       "      <td>220,925.91</td>\n",
       "    </tr>\n",
       "    <tr>\n",
       "      <th>5809</th>\n",
       "      <td>58</td>\n",
       "      <td>2.00</td>\n",
       "      <td>53.35</td>\n",
       "      <td>52.73</td>\n",
       "      <td>9.00</td>\n",
       "      <td>8</td>\n",
       "      <td>17.00</td>\n",
       "      <td>1977</td>\n",
       "      <td>0.44</td>\n",
       "      <td>B</td>\n",
       "      <td>B</td>\n",
       "      <td>23</td>\n",
       "      <td>5735</td>\n",
       "      <td>3</td>\n",
       "      <td>1,084.00</td>\n",
       "      <td>0</td>\n",
       "      <td>5</td>\n",
       "      <td>B</td>\n",
       "      <td>175,616.23</td>\n",
       "    </tr>\n",
       "    <tr>\n",
       "      <th>10783</th>\n",
       "      <td>99</td>\n",
       "      <td>1.00</td>\n",
       "      <td>39.65</td>\n",
       "      <td>23.78</td>\n",
       "      <td>7.00</td>\n",
       "      <td>11</td>\n",
       "      <td>12.00</td>\n",
       "      <td>1976</td>\n",
       "      <td>0.01</td>\n",
       "      <td>B</td>\n",
       "      <td>B</td>\n",
       "      <td>35</td>\n",
       "      <td>5776</td>\n",
       "      <td>1</td>\n",
       "      <td>2,078.00</td>\n",
       "      <td>2</td>\n",
       "      <td>4</td>\n",
       "      <td>B</td>\n",
       "      <td>150,226.53</td>\n",
       "    </tr>\n",
       "  </tbody>\n",
       "</table>\n",
       "</div>"
      ],
      "text/plain": [
       "       DistrictId  Rooms  Square  LifeSquare  KitchenSquare  Floor  \\\n",
       "Id                                                                   \n",
       "14038          35   2.00   47.98       29.44           6.00      7   \n",
       "15053          41   3.00   65.68       40.05           8.00      7   \n",
       "4765           53   2.00   44.95       29.20           0.00      8   \n",
       "5809           58   2.00   53.35       52.73           9.00      8   \n",
       "10783          99   1.00   39.65       23.78           7.00     11   \n",
       "\n",
       "       HouseFloor  HouseYear  Ecology_1 Ecology_2 Ecology_3  Social_1  \\\n",
       "Id                                                                      \n",
       "14038        9.00       1969       0.09         B         B        33   \n",
       "15053        9.00       1978       0.00         B         B        46   \n",
       "4765        12.00       1968       0.05         B         B        34   \n",
       "5809        17.00       1977       0.44         B         B        23   \n",
       "10783       12.00       1976       0.01         B         B        35   \n",
       "\n",
       "       Social_2  Social_3  Healthcare_1  Helthcare_2  Shops_1 Shops_2  \\\n",
       "Id                                                                      \n",
       "14038      7976         5           nan            0       11       B   \n",
       "15053     10309         1        240.00            1       16       B   \n",
       "4765       7759         0        229.00            1        3       B   \n",
       "5809       5735         3      1,084.00            0        5       B   \n",
       "10783      5776         1      2,078.00            2        4       B   \n",
       "\n",
       "           Price  \n",
       "Id                \n",
       "14038 184,966.93  \n",
       "15053 300,009.45  \n",
       "4765  220,925.91  \n",
       "5809  175,616.23  \n",
       "10783 150,226.53  "
      ]
     },
     "execution_count": 5,
     "metadata": {},
     "output_type": "execute_result"
    }
   ],
   "source": [
    "train_df = pd.read_csv(TRAIN_DATASET_PATH, index_col='Id')\n",
    "train_df.head()"
   ]
  },
  {
   "cell_type": "code",
   "execution_count": 6,
   "metadata": {},
   "outputs": [
    {
     "data": {
      "text/html": [
       "<div>\n",
       "<style scoped>\n",
       "    .dataframe tbody tr th:only-of-type {\n",
       "        vertical-align: middle;\n",
       "    }\n",
       "\n",
       "    .dataframe tbody tr th {\n",
       "        vertical-align: top;\n",
       "    }\n",
       "\n",
       "    .dataframe thead th {\n",
       "        text-align: right;\n",
       "    }\n",
       "</style>\n",
       "<table border=\"1\" class=\"dataframe\">\n",
       "  <thead>\n",
       "    <tr style=\"text-align: right;\">\n",
       "      <th></th>\n",
       "      <th>DistrictId</th>\n",
       "      <th>Rooms</th>\n",
       "      <th>Square</th>\n",
       "      <th>LifeSquare</th>\n",
       "      <th>KitchenSquare</th>\n",
       "      <th>Floor</th>\n",
       "      <th>HouseFloor</th>\n",
       "      <th>HouseYear</th>\n",
       "      <th>Ecology_1</th>\n",
       "      <th>Ecology_2</th>\n",
       "      <th>Ecology_3</th>\n",
       "      <th>Social_1</th>\n",
       "      <th>Social_2</th>\n",
       "      <th>Social_3</th>\n",
       "      <th>Healthcare_1</th>\n",
       "      <th>Helthcare_2</th>\n",
       "      <th>Shops_1</th>\n",
       "      <th>Shops_2</th>\n",
       "    </tr>\n",
       "    <tr>\n",
       "      <th>Id</th>\n",
       "      <th></th>\n",
       "      <th></th>\n",
       "      <th></th>\n",
       "      <th></th>\n",
       "      <th></th>\n",
       "      <th></th>\n",
       "      <th></th>\n",
       "      <th></th>\n",
       "      <th></th>\n",
       "      <th></th>\n",
       "      <th></th>\n",
       "      <th></th>\n",
       "      <th></th>\n",
       "      <th></th>\n",
       "      <th></th>\n",
       "      <th></th>\n",
       "      <th></th>\n",
       "      <th></th>\n",
       "    </tr>\n",
       "  </thead>\n",
       "  <tbody>\n",
       "    <tr>\n",
       "      <th>725</th>\n",
       "      <td>58</td>\n",
       "      <td>2.00</td>\n",
       "      <td>49.88</td>\n",
       "      <td>33.43</td>\n",
       "      <td>6.00</td>\n",
       "      <td>6</td>\n",
       "      <td>14.00</td>\n",
       "      <td>1972</td>\n",
       "      <td>0.31</td>\n",
       "      <td>B</td>\n",
       "      <td>B</td>\n",
       "      <td>11</td>\n",
       "      <td>2748</td>\n",
       "      <td>1</td>\n",
       "      <td>nan</td>\n",
       "      <td>0</td>\n",
       "      <td>0</td>\n",
       "      <td>B</td>\n",
       "    </tr>\n",
       "    <tr>\n",
       "      <th>15856</th>\n",
       "      <td>74</td>\n",
       "      <td>2.00</td>\n",
       "      <td>69.26</td>\n",
       "      <td>nan</td>\n",
       "      <td>1.00</td>\n",
       "      <td>6</td>\n",
       "      <td>1.00</td>\n",
       "      <td>1977</td>\n",
       "      <td>0.08</td>\n",
       "      <td>B</td>\n",
       "      <td>B</td>\n",
       "      <td>6</td>\n",
       "      <td>1437</td>\n",
       "      <td>3</td>\n",
       "      <td>nan</td>\n",
       "      <td>0</td>\n",
       "      <td>2</td>\n",
       "      <td>B</td>\n",
       "    </tr>\n",
       "    <tr>\n",
       "      <th>5480</th>\n",
       "      <td>190</td>\n",
       "      <td>1.00</td>\n",
       "      <td>13.60</td>\n",
       "      <td>15.95</td>\n",
       "      <td>12.00</td>\n",
       "      <td>2</td>\n",
       "      <td>5.00</td>\n",
       "      <td>1909</td>\n",
       "      <td>0.00</td>\n",
       "      <td>B</td>\n",
       "      <td>B</td>\n",
       "      <td>30</td>\n",
       "      <td>7538</td>\n",
       "      <td>87</td>\n",
       "      <td>4,702.00</td>\n",
       "      <td>5</td>\n",
       "      <td>5</td>\n",
       "      <td>B</td>\n",
       "    </tr>\n",
       "    <tr>\n",
       "      <th>15664</th>\n",
       "      <td>47</td>\n",
       "      <td>2.00</td>\n",
       "      <td>73.05</td>\n",
       "      <td>51.94</td>\n",
       "      <td>9.00</td>\n",
       "      <td>22</td>\n",
       "      <td>22.00</td>\n",
       "      <td>2007</td>\n",
       "      <td>0.10</td>\n",
       "      <td>B</td>\n",
       "      <td>B</td>\n",
       "      <td>23</td>\n",
       "      <td>4583</td>\n",
       "      <td>3</td>\n",
       "      <td>nan</td>\n",
       "      <td>3</td>\n",
       "      <td>3</td>\n",
       "      <td>B</td>\n",
       "    </tr>\n",
       "    <tr>\n",
       "      <th>14275</th>\n",
       "      <td>27</td>\n",
       "      <td>1.00</td>\n",
       "      <td>47.53</td>\n",
       "      <td>43.39</td>\n",
       "      <td>1.00</td>\n",
       "      <td>17</td>\n",
       "      <td>17.00</td>\n",
       "      <td>2017</td>\n",
       "      <td>0.07</td>\n",
       "      <td>B</td>\n",
       "      <td>B</td>\n",
       "      <td>2</td>\n",
       "      <td>629</td>\n",
       "      <td>1</td>\n",
       "      <td>nan</td>\n",
       "      <td>0</td>\n",
       "      <td>0</td>\n",
       "      <td>A</td>\n",
       "    </tr>\n",
       "  </tbody>\n",
       "</table>\n",
       "</div>"
      ],
      "text/plain": [
       "       DistrictId  Rooms  Square  LifeSquare  KitchenSquare  Floor  \\\n",
       "Id                                                                   \n",
       "725            58   2.00   49.88       33.43           6.00      6   \n",
       "15856          74   2.00   69.26         nan           1.00      6   \n",
       "5480          190   1.00   13.60       15.95          12.00      2   \n",
       "15664          47   2.00   73.05       51.94           9.00     22   \n",
       "14275          27   1.00   47.53       43.39           1.00     17   \n",
       "\n",
       "       HouseFloor  HouseYear  Ecology_1 Ecology_2 Ecology_3  Social_1  \\\n",
       "Id                                                                      \n",
       "725         14.00       1972       0.31         B         B        11   \n",
       "15856        1.00       1977       0.08         B         B         6   \n",
       "5480         5.00       1909       0.00         B         B        30   \n",
       "15664       22.00       2007       0.10         B         B        23   \n",
       "14275       17.00       2017       0.07         B         B         2   \n",
       "\n",
       "       Social_2  Social_3  Healthcare_1  Helthcare_2  Shops_1 Shops_2  \n",
       "Id                                                                     \n",
       "725        2748         1           nan            0        0       B  \n",
       "15856      1437         3           nan            0        2       B  \n",
       "5480       7538        87      4,702.00            5        5       B  \n",
       "15664      4583         3           nan            3        3       B  \n",
       "14275       629         1           nan            0        0       A  "
      ]
     },
     "execution_count": 6,
     "metadata": {},
     "output_type": "execute_result"
    }
   ],
   "source": [
    "test_df = pd.read_csv(TEST_DATASET_PATH, index_col='Id')\n",
    "test_df.head()"
   ]
  },
  {
   "cell_type": "code",
   "execution_count": 7,
   "metadata": {},
   "outputs": [
    {
     "data": {
      "text/plain": [
       "((10000, 19), (5000, 18))"
      ]
     },
     "execution_count": 7,
     "metadata": {},
     "output_type": "execute_result"
    }
   ],
   "source": [
    "train_df.shape, test_df.shape"
   ]
  },
  {
   "cell_type": "markdown",
   "metadata": {},
   "source": [
    "### Приведение типов"
   ]
  },
  {
   "cell_type": "code",
   "execution_count": 8,
   "metadata": {
    "scrolled": true
   },
   "outputs": [
    {
     "data": {
      "text/plain": [
       "DistrictId         int64\n",
       "Rooms            float64\n",
       "Square           float64\n",
       "LifeSquare       float64\n",
       "KitchenSquare    float64\n",
       "Floor              int64\n",
       "HouseFloor       float64\n",
       "HouseYear          int64\n",
       "Ecology_1        float64\n",
       "Ecology_2         object\n",
       "Ecology_3         object\n",
       "Social_1           int64\n",
       "Social_2           int64\n",
       "Social_3           int64\n",
       "Healthcare_1     float64\n",
       "Helthcare_2        int64\n",
       "Shops_1            int64\n",
       "Shops_2           object\n",
       "Price            float64\n",
       "dtype: object"
      ]
     },
     "execution_count": 8,
     "metadata": {},
     "output_type": "execute_result"
    }
   ],
   "source": [
    "train_df.dtypes"
   ]
  },
  {
   "cell_type": "code",
   "execution_count": 9,
   "metadata": {
    "scrolled": false
   },
   "outputs": [
    {
     "data": {
      "text/plain": [
       "DistrictId         int64\n",
       "Rooms            float64\n",
       "Square           float64\n",
       "LifeSquare       float64\n",
       "KitchenSquare    float64\n",
       "Floor              int64\n",
       "HouseFloor       float64\n",
       "HouseYear          int64\n",
       "Ecology_1        float64\n",
       "Ecology_2         object\n",
       "Ecology_3         object\n",
       "Social_1           int64\n",
       "Social_2           int64\n",
       "Social_3           int64\n",
       "Healthcare_1     float64\n",
       "Helthcare_2        int64\n",
       "Shops_1            int64\n",
       "Shops_2           object\n",
       "dtype: object"
      ]
     },
     "execution_count": 9,
     "metadata": {},
     "output_type": "execute_result"
    }
   ],
   "source": [
    "test_df.dtypes"
   ]
  },
  {
   "cell_type": "code",
   "execution_count": 13,
   "metadata": {},
   "outputs": [],
   "source": [
    "train_df['DistrictId'] = train_df['DistrictId'].astype(str)\n",
    "test_df['DistrictId'] = test_df['DistrictId'].astype(str)"
   ]
  },
  {
   "cell_type": "markdown",
   "metadata": {},
   "source": [
    "## Обзор данных"
   ]
  },
  {
   "cell_type": "markdown",
   "metadata": {},
   "source": [
    "### Целевая переменная"
   ]
  },
  {
   "cell_type": "code",
   "execution_count": 10,
   "metadata": {},
   "outputs": [
    {
     "data": {
      "image/png": "[encoded data removed]",
      "text/plain": [
       "<Figure size 720x360 with 1 Axes>"
      ]
     },
     "metadata": {},
     "output_type": "display_data"
    }
   ],
   "source": [
    "plt.figure(figsize = (10, 5))\n",
    "\n",
    "train_df['Price'].hist(bins=50)\n",
    "plt.ylabel('Count')\n",
    "plt.xlabel('Price')\n",
    "plt.title('Target distribution');"
   ]
  },
  {
   "cell_type": "markdown",
   "metadata": {},
   "source": [
    "## Количественные переменные"
   ]
  },
  {
   "cell_type": "code",
   "execution_count": 11,
   "metadata": {},
   "outputs": [
    {
     "data": {
      "text/plain": [
       "DistrictId         205\n",
       "Rooms                9\n",
       "Square           10000\n",
       "LifeSquare        7887\n",
       "KitchenSquare       58\n",
       "Floor               33\n",
       "HouseFloor          44\n",
       "HouseYear           97\n",
       "Ecology_1          129\n",
       "Ecology_2            2\n",
       "Ecology_3            2\n",
       "Social_1            51\n",
       "Social_2           142\n",
       "Social_3            30\n",
       "Healthcare_1        79\n",
       "Helthcare_2          7\n",
       "Shops_1             16\n",
       "Shops_2              2\n",
       "Price            10000\n",
       "dtype: int64"
      ]
     },
     "execution_count": 11,
     "metadata": {},
     "output_type": "execute_result"
    }
   ],
   "source": [
    "train_df.nunique()"
   ]
  },
  {
   "cell_type": "code",
   "execution_count": 12,
   "metadata": {},
   "outputs": [
    {
     "data": {
      "text/plain": [
       "DistrictId        201\n",
       "Rooms               8\n",
       "Square           5000\n",
       "LifeSquare       3959\n",
       "KitchenSquare      38\n",
       "Floor              35\n",
       "HouseFloor         41\n",
       "HouseYear          97\n",
       "Ecology_1         130\n",
       "Ecology_2           2\n",
       "Ecology_3           2\n",
       "Social_1           51\n",
       "Social_2          143\n",
       "Social_3           30\n",
       "Healthcare_1       79\n",
       "Helthcare_2         7\n",
       "Shops_1            16\n",
       "Shops_2             2\n",
       "dtype: int64"
      ]
     },
     "execution_count": 12,
     "metadata": {},
     "output_type": "execute_result"
    }
   ],
   "source": [
    "test_df.nunique()"
   ]
  },
  {
   "cell_type": "code",
   "execution_count": 14,
   "metadata": {},
   "outputs": [
    {
     "data": {
      "text/plain": [
       "['Rooms',\n",
       " 'Square',\n",
       " 'LifeSquare',\n",
       " 'KitchenSquare',\n",
       " 'Floor',\n",
       " 'HouseFloor',\n",
       " 'HouseYear',\n",
       " 'Ecology_1',\n",
       " 'Social_1',\n",
       " 'Social_2',\n",
       " 'Social_3',\n",
       " 'Healthcare_1',\n",
       " 'Helthcare_2',\n",
       " 'Shops_1']"
      ]
     },
     "execution_count": 14,
     "metadata": {},
     "output_type": "execute_result"
    }
   ],
   "source": [
    "feature_num_names = train_df.drop('Price', axis=1).select_dtypes(include=['float64', 'int64']).\\\n",
    "        columns.tolist()\n",
    "feature_num_names"
   ]
  },
  {
   "cell_type": "code",
   "execution_count": 15,
   "metadata": {},
   "outputs": [
    {
     "data": {
      "image/png": "[encoded data removed]",
      "text/plain": [
       "<Figure size 1224x1008 with 16 Axes>"
      ]
     },
     "metadata": {},
     "output_type": "display_data"
    }
   ],
   "source": [
    "train_df[feature_num_names].hist(figsize=(17,14), bins=20, grid=True);"
   ]
  },
  {
   "cell_type": "code",
   "execution_count": 23,
   "metadata": {},
   "outputs": [
    {
     "data": {
      "text/plain": [
       "['Rooms',\n",
       " 'Square',\n",
       " 'LifeSquare',\n",
       " 'KitchenSquare',\n",
       " 'Floor',\n",
       " 'HouseFloor',\n",
       " 'HouseYear',\n",
       " 'Ecology_1',\n",
       " 'Social_1',\n",
       " 'Social_2',\n",
       " 'Social_3',\n",
       " 'Healthcare_1',\n",
       " 'Helthcare_2',\n",
       " 'Shops_1']"
      ]
     },
     "execution_count": 23,
     "metadata": {},
     "output_type": "execute_result"
    }
   ],
   "source": [
    "feature_num_names_test = test_df.select_dtypes(include=['float64', 'int64']).\\\n",
    "        columns.tolist()\n",
    "feature_num_names_test"
   ]
  },
  {
   "cell_type": "code",
   "execution_count": 24,
   "metadata": {},
   "outputs": [
    {
     "data": {
      "image/png": "[encoded data removed]",
      "text/plain": [
       "<Figure size 1224x1008 with 16 Axes>"
      ]
     },
     "metadata": {},
     "output_type": "display_data"
    }
   ],
   "source": [
    "test_df[feature_num_names_test].hist(figsize=(17,14), bins=20, grid=True);"
   ]
  },
  {
   "cell_type": "markdown",
   "metadata": {},
   "source": [
    "### Категориальные переменные"
   ]
  },
  {
   "cell_type": "code",
   "execution_count": 16,
   "metadata": {},
   "outputs": [
    {
     "data": {
      "text/plain": [
       "['DistrictId', 'Ecology_2', 'Ecology_3', 'Shops_2']"
      ]
     },
     "execution_count": 16,
     "metadata": {},
     "output_type": "execute_result"
    }
   ],
   "source": [
    "feature_cat_names = train_df.select_dtypes(include='object').columns.tolist()\n",
    "feature_cat_names"
   ]
  },
  {
   "cell_type": "code",
   "execution_count": 17,
   "metadata": {},
   "outputs": [
    {
     "data": {
      "text/plain": [
       "B    9903\n",
       "A      97\n",
       "Name: Ecology_2, dtype: int64"
      ]
     },
     "execution_count": 17,
     "metadata": {},
     "output_type": "execute_result"
    }
   ],
   "source": [
    "train_df['Ecology_2'].value_counts()"
   ]
  },
  {
   "cell_type": "code",
   "execution_count": 18,
   "metadata": {},
   "outputs": [
    {
     "data": {
      "image/png": "[encoded data removed]",
      "text/plain": [
       "<Figure size 432x288 with 1 Axes>"
      ]
     },
     "metadata": {},
     "output_type": "display_data"
    }
   ],
   "source": [
    "sns.boxplot('Price', 'Ecology_2', data=train_df);"
   ]
  },
  {
   "cell_type": "code",
   "execution_count": 19,
   "metadata": {},
   "outputs": [
    {
     "data": {
      "text/plain": [
       "B    4952\n",
       "A      48\n",
       "Name: Ecology_2, dtype: int64"
      ]
     },
     "execution_count": 19,
     "metadata": {},
     "output_type": "execute_result"
    }
   ],
   "source": [
    "test_df['Ecology_2'].value_counts()"
   ]
  },
  {
   "cell_type": "code",
   "execution_count": 21,
   "metadata": {},
   "outputs": [
    {
     "data": {
      "text/plain": [
       "B    9725\n",
       "A     275\n",
       "Name: Ecology_3, dtype: int64"
      ]
     },
     "execution_count": 21,
     "metadata": {},
     "output_type": "execute_result"
    }
   ],
   "source": [
    "train_df['Ecology_3'].value_counts()"
   ]
  },
  {
   "cell_type": "code",
   "execution_count": 22,
   "metadata": {},
   "outputs": [
    {
     "data": {
      "image/png": "[encoded data removed]",
      "text/plain": [
       "<Figure size 432x288 with 1 Axes>"
      ]
     },
     "metadata": {},
     "output_type": "display_data"
    }
   ],
   "source": [
    "sns.boxplot('Price', 'Ecology_3', data=train_df);"
   ]
  },
  {
   "cell_type": "code",
   "execution_count": 23,
   "metadata": {},
   "outputs": [
    {
     "data": {
      "text/plain": [
       "B    4851\n",
       "A     149\n",
       "Name: Ecology_3, dtype: int64"
      ]
     },
     "execution_count": 23,
     "metadata": {},
     "output_type": "execute_result"
    }
   ],
   "source": [
    "test_df['Ecology_3'].value_counts()"
   ]
  },
  {
   "cell_type": "code",
   "execution_count": 24,
   "metadata": {},
   "outputs": [
    {
     "data": {
      "text/plain": [
       "B    9175\n",
       "A     825\n",
       "Name: Shops_2, dtype: int64"
      ]
     },
     "execution_count": 24,
     "metadata": {},
     "output_type": "execute_result"
    }
   ],
   "source": [
    "train_df['Shops_2'].value_counts()"
   ]
  },
  {
   "cell_type": "code",
   "execution_count": 25,
   "metadata": {},
   "outputs": [
    {
     "data": {
      "image/png": "[encoded data removed]",
      "text/plain": [
       "<Figure size 432x288 with 1 Axes>"
      ]
     },
     "metadata": {},
     "output_type": "display_data"
    }
   ],
   "source": [
    "sns.boxplot('Price', 'Shops_2', data=train_df);"
   ]
  },
  {
   "cell_type": "code",
   "execution_count": 26,
   "metadata": {},
   "outputs": [
    {
     "data": {
      "text/plain": [
       "B    4588\n",
       "A     412\n",
       "Name: Shops_2, dtype: int64"
      ]
     },
     "execution_count": 26,
     "metadata": {},
     "output_type": "execute_result"
    }
   ],
   "source": [
    "test_df['Shops_2'].value_counts()"
   ]
  },
  {
   "cell_type": "code",
   "execution_count": 27,
   "metadata": {},
   "outputs": [
    {
     "name": "stdout",
     "output_type": "stream",
     "text": [
      "<class 'pandas.core.frame.DataFrame'>\n",
      "Int64Index: 10000 entries, 14038 to 6306\n",
      "Data columns (total 19 columns):\n",
      " #   Column         Non-Null Count  Dtype  \n",
      "---  ------         --------------  -----  \n",
      " 0   DistrictId     10000 non-null  object \n",
      " 1   Rooms          10000 non-null  float64\n",
      " 2   Square         10000 non-null  float64\n",
      " 3   LifeSquare     7887 non-null   float64\n",
      " 4   KitchenSquare  10000 non-null  float64\n",
      " 5   Floor          10000 non-null  int64  \n",
      " 6   HouseFloor     10000 non-null  float64\n",
      " 7   HouseYear      10000 non-null  int64  \n",
      " 8   Ecology_1      10000 non-null  float64\n",
      " 9   Ecology_2      10000 non-null  int64  \n",
      " 10  Ecology_3      10000 non-null  int64  \n",
      " 11  Social_1       10000 non-null  int64  \n",
      " 12  Social_2       10000 non-null  int64  \n",
      " 13  Social_3       10000 non-null  int64  \n",
      " 14  Healthcare_1   5202 non-null   float64\n",
      " 15  Helthcare_2    10000 non-null  int64  \n",
      " 16  Shops_1        10000 non-null  int64  \n",
      " 17  Shops_2        10000 non-null  int64  \n",
      " 18  Price          10000 non-null  float64\n",
      "dtypes: float64(8), int64(10), object(1)\n",
      "memory usage: 1.8+ MB\n"
     ]
    }
   ],
   "source": [
    "feature_bin_names = ['Ecology_2', 'Ecology_3', 'Shops_2']\n",
    "\n",
    "train_df[feature_bin_names] = train_df[feature_bin_names].replace({'A':0, 'B':1})\n",
    "test_df[feature_bin_names] = test_df[feature_bin_names].replace({'A':0, 'B':1})\n",
    "\n",
    "train_df.info()"
   ]
  },
  {
   "cell_type": "code",
   "execution_count": 28,
   "metadata": {},
   "outputs": [
    {
     "name": "stdout",
     "output_type": "stream",
     "text": [
      "<class 'pandas.core.frame.DataFrame'>\n",
      "Int64Index: 5000 entries, 725 to 12504\n",
      "Data columns (total 18 columns):\n",
      " #   Column         Non-Null Count  Dtype  \n",
      "---  ------         --------------  -----  \n",
      " 0   DistrictId     5000 non-null   object \n",
      " 1   Rooms          5000 non-null   float64\n",
      " 2   Square         5000 non-null   float64\n",
      " 3   LifeSquare     3959 non-null   float64\n",
      " 4   KitchenSquare  5000 non-null   float64\n",
      " 5   Floor          5000 non-null   int64  \n",
      " 6   HouseFloor     5000 non-null   float64\n",
      " 7   HouseYear      5000 non-null   int64  \n",
      " 8   Ecology_1      5000 non-null   float64\n",
      " 9   Ecology_2      5000 non-null   int64  \n",
      " 10  Ecology_3      5000 non-null   int64  \n",
      " 11  Social_1       5000 non-null   int64  \n",
      " 12  Social_2       5000 non-null   int64  \n",
      " 13  Social_3       5000 non-null   int64  \n",
      " 14  Healthcare_1   2623 non-null   float64\n",
      " 15  Helthcare_2    5000 non-null   int64  \n",
      " 16  Shops_1        5000 non-null   int64  \n",
      " 17  Shops_2        5000 non-null   int64  \n",
      "dtypes: float64(7), int64(10), object(1)\n",
      "memory usage: 742.2+ KB\n"
     ]
    }
   ],
   "source": [
    "test_df.info()"
   ]
  },
  {
   "cell_type": "markdown",
   "metadata": {},
   "source": [
    "#### Helthcare_2"
   ]
  },
  {
   "cell_type": "code",
   "execution_count": 29,
   "metadata": {},
   "outputs": [
    {
     "data": {
      "image/png": "[encoded data removed]",
      "text/plain": [
       "<Figure size 720x360 with 1 Axes>"
      ]
     },
     "metadata": {},
     "output_type": "display_data"
    }
   ],
   "source": [
    "sns.catplot('Helthcare_2', 'Price', kind=\"box\", data=train_df, aspect=2/1);"
   ]
  },
  {
   "cell_type": "markdown",
   "metadata": {},
   "source": [
    "### Обработка пропусков"
   ]
  },
  {
   "cell_type": "code",
   "execution_count": 30,
   "metadata": {},
   "outputs": [
    {
     "data": {
      "text/plain": [
       "LifeSquare      2113\n",
       "Healthcare_1    4798\n",
       "dtype: int64"
      ]
     },
     "execution_count": 30,
     "metadata": {},
     "output_type": "execute_result"
    }
   ],
   "source": [
    "train_df.isna().sum()[train_df.isna().sum() != 0]"
   ]
  },
  {
   "cell_type": "code",
   "execution_count": 31,
   "metadata": {},
   "outputs": [
    {
     "data": {
      "text/plain": [
       "LifeSquare      1041\n",
       "Healthcare_1    2377\n",
       "dtype: int64"
      ]
     },
     "execution_count": 31,
     "metadata": {},
     "output_type": "execute_result"
    }
   ],
   "source": [
    "test_df.isna().sum()[test_df.isna().sum() != 0]"
   ]
  },
  {
   "cell_type": "markdown",
   "metadata": {},
   "source": [
    "#### LifeSquare"
   ]
  },
  {
   "cell_type": "markdown",
   "metadata": {},
   "source": [
    "Замена отсутствующих данных LifeSquare на Square - KitchenSquare"
   ]
  },
  {
   "cell_type": "code",
   "execution_count": 40,
   "metadata": {},
   "outputs": [],
   "source": [
    "train_df.loc[train_df['LifeSquare'].isna(), 'LifeSquare'] = \\\n",
    "    train_df.loc[train_df['LifeSquare'].isna(), 'Square'] - train_df.loc[train_df['LifeSquare'].isna(), 'KitchenSquare']"
   ]
  },
  {
   "cell_type": "code",
   "execution_count": 41,
   "metadata": {},
   "outputs": [],
   "source": [
    "test_df.loc[test_df['LifeSquare'].isna(), 'LifeSquare'] = \\\n",
    "    test_df.loc[test_df['LifeSquare'].isna(), 'Square'] - test_df.loc[test_df['LifeSquare'].isna(), 'KitchenSquare']"
   ]
  },
  {
   "cell_type": "markdown",
   "metadata": {},
   "source": [
    "#### Healthcare_1"
   ]
  },
  {
   "cell_type": "markdown",
   "metadata": {},
   "source": [
    "Замена отсутствующих значений на медианы Healthcare_1 по группам Helthcare_2. В предположении, что это будет ближе к реальности чем одно значение медианы для всех пропусков. И поскольку между этими признаками есть небольшая корреляция, и групп Healthcare_2 немного"
   ]
  },
  {
   "cell_type": "code",
   "execution_count": 43,
   "metadata": {},
   "outputs": [
    {
     "data": {
      "text/plain": [
       "Helthcare_2\n",
       "0     540.00\n",
       "1     620.00\n",
       "2     750.00\n",
       "3   1,145.00\n",
       "4   1,894.00\n",
       "5   1,575.00\n",
       "6     645.00\n",
       "Name: Healthcare_1, dtype: float64"
      ]
     },
     "execution_count": 43,
     "metadata": {},
     "output_type": "execute_result"
    }
   ],
   "source": [
    "train_df.groupby(['Helthcare_2'])['Healthcare_1'].median()"
   ]
  },
  {
   "cell_type": "code",
   "execution_count": 44,
   "metadata": {},
   "outputs": [],
   "source": [
    "train_df.loc[train_df['Healthcare_1'].isna(), 'Healthcare_1'] =\\\n",
    "train_df.groupby(['Helthcare_2'])['Healthcare_1'].transform(lambda x: x.median())"
   ]
  },
  {
   "cell_type": "code",
   "execution_count": 45,
   "metadata": {},
   "outputs": [],
   "source": [
    "test_df.loc[test_df['Healthcare_1'].isna(), 'Healthcare_1'] =\\\n",
    "test_df.groupby(['Helthcare_2'])['Healthcare_1'].transform(lambda x: x.median())"
   ]
  },
  {
   "cell_type": "markdown",
   "metadata": {},
   "source": [
    "## Обработка выбросов"
   ]
  },
  {
   "cell_type": "markdown",
   "metadata": {},
   "source": [
    "#### Square, LifeSquare, KitchenSquare"
   ]
  },
  {
   "cell_type": "markdown",
   "metadata": {},
   "source": [
    "Для строк с LifeSquare большей Square замена LifeSquare на Square - KitchenSquare"
   ]
  },
  {
   "cell_type": "code",
   "execution_count": 48,
   "metadata": {
    "scrolled": true
   },
   "outputs": [
    {
     "data": {
      "text/html": [
       "<div>\n",
       "<style scoped>\n",
       "    .dataframe tbody tr th:only-of-type {\n",
       "        vertical-align: middle;\n",
       "    }\n",
       "\n",
       "    .dataframe tbody tr th {\n",
       "        vertical-align: top;\n",
       "    }\n",
       "\n",
       "    .dataframe thead th {\n",
       "        text-align: right;\n",
       "    }\n",
       "</style>\n",
       "<table border=\"1\" class=\"dataframe\">\n",
       "  <thead>\n",
       "    <tr style=\"text-align: right;\">\n",
       "      <th></th>\n",
       "      <th>DistrictId</th>\n",
       "      <th>Rooms</th>\n",
       "      <th>Square</th>\n",
       "      <th>LifeSquare</th>\n",
       "      <th>KitchenSquare</th>\n",
       "      <th>Floor</th>\n",
       "      <th>HouseFloor</th>\n",
       "      <th>HouseYear</th>\n",
       "      <th>Ecology_1</th>\n",
       "      <th>Ecology_2</th>\n",
       "      <th>Ecology_3</th>\n",
       "      <th>Social_1</th>\n",
       "      <th>Social_2</th>\n",
       "      <th>Social_3</th>\n",
       "      <th>Healthcare_1</th>\n",
       "      <th>Helthcare_2</th>\n",
       "      <th>Shops_1</th>\n",
       "      <th>Shops_2</th>\n",
       "      <th>Price</th>\n",
       "    </tr>\n",
       "    <tr>\n",
       "      <th>Id</th>\n",
       "      <th></th>\n",
       "      <th></th>\n",
       "      <th></th>\n",
       "      <th></th>\n",
       "      <th></th>\n",
       "      <th></th>\n",
       "      <th></th>\n",
       "      <th></th>\n",
       "      <th></th>\n",
       "      <th></th>\n",
       "      <th></th>\n",
       "      <th></th>\n",
       "      <th></th>\n",
       "      <th></th>\n",
       "      <th></th>\n",
       "      <th></th>\n",
       "      <th></th>\n",
       "      <th></th>\n",
       "      <th></th>\n",
       "    </tr>\n",
       "  </thead>\n",
       "  <tbody>\n",
       "    <tr>\n",
       "      <th>8054</th>\n",
       "      <td>23</td>\n",
       "      <td>1.00</td>\n",
       "      <td>42.53</td>\n",
       "      <td>43.97</td>\n",
       "      <td>1.00</td>\n",
       "      <td>3</td>\n",
       "      <td>9.00</td>\n",
       "      <td>2014</td>\n",
       "      <td>0.03</td>\n",
       "      <td>1</td>\n",
       "      <td>1</td>\n",
       "      <td>0</td>\n",
       "      <td>168</td>\n",
       "      <td>0</td>\n",
       "      <td>540.00</td>\n",
       "      <td>0</td>\n",
       "      <td>0</td>\n",
       "      <td>1</td>\n",
       "      <td>95,338.20</td>\n",
       "    </tr>\n",
       "    <tr>\n",
       "      <th>10521</th>\n",
       "      <td>38</td>\n",
       "      <td>3.00</td>\n",
       "      <td>104.21</td>\n",
       "      <td>106.34</td>\n",
       "      <td>0.00</td>\n",
       "      <td>20</td>\n",
       "      <td>0.00</td>\n",
       "      <td>2017</td>\n",
       "      <td>0.06</td>\n",
       "      <td>1</td>\n",
       "      <td>1</td>\n",
       "      <td>15</td>\n",
       "      <td>2787</td>\n",
       "      <td>2</td>\n",
       "      <td>520.00</td>\n",
       "      <td>0</td>\n",
       "      <td>7</td>\n",
       "      <td>1</td>\n",
       "      <td>435,462.05</td>\n",
       "    </tr>\n",
       "    <tr>\n",
       "      <th>2301</th>\n",
       "      <td>1</td>\n",
       "      <td>2.00</td>\n",
       "      <td>61.40</td>\n",
       "      <td>65.22</td>\n",
       "      <td>0.00</td>\n",
       "      <td>17</td>\n",
       "      <td>22.00</td>\n",
       "      <td>2016</td>\n",
       "      <td>0.01</td>\n",
       "      <td>1</td>\n",
       "      <td>1</td>\n",
       "      <td>1</td>\n",
       "      <td>264</td>\n",
       "      <td>0</td>\n",
       "      <td>540.00</td>\n",
       "      <td>0</td>\n",
       "      <td>1</td>\n",
       "      <td>1</td>\n",
       "      <td>199,215.45</td>\n",
       "    </tr>\n",
       "    <tr>\n",
       "      <th>8753</th>\n",
       "      <td>25</td>\n",
       "      <td>3.00</td>\n",
       "      <td>85.95</td>\n",
       "      <td>89.80</td>\n",
       "      <td>1.00</td>\n",
       "      <td>4</td>\n",
       "      <td>3.00</td>\n",
       "      <td>2017</td>\n",
       "      <td>0.07</td>\n",
       "      <td>1</td>\n",
       "      <td>1</td>\n",
       "      <td>53</td>\n",
       "      <td>13670</td>\n",
       "      <td>4</td>\n",
       "      <td>620.00</td>\n",
       "      <td>1</td>\n",
       "      <td>11</td>\n",
       "      <td>1</td>\n",
       "      <td>309,688.59</td>\n",
       "    </tr>\n",
       "    <tr>\n",
       "      <th>9870</th>\n",
       "      <td>62</td>\n",
       "      <td>1.00</td>\n",
       "      <td>51.83</td>\n",
       "      <td>53.49</td>\n",
       "      <td>1.00</td>\n",
       "      <td>5</td>\n",
       "      <td>1.00</td>\n",
       "      <td>2015</td>\n",
       "      <td>0.07</td>\n",
       "      <td>1</td>\n",
       "      <td>1</td>\n",
       "      <td>2</td>\n",
       "      <td>629</td>\n",
       "      <td>1</td>\n",
       "      <td>540.00</td>\n",
       "      <td>0</td>\n",
       "      <td>0</td>\n",
       "      <td>0</td>\n",
       "      <td>131,797.47</td>\n",
       "    </tr>\n",
       "    <tr>\n",
       "      <th>...</th>\n",
       "      <td>...</td>\n",
       "      <td>...</td>\n",
       "      <td>...</td>\n",
       "      <td>...</td>\n",
       "      <td>...</td>\n",
       "      <td>...</td>\n",
       "      <td>...</td>\n",
       "      <td>...</td>\n",
       "      <td>...</td>\n",
       "      <td>...</td>\n",
       "      <td>...</td>\n",
       "      <td>...</td>\n",
       "      <td>...</td>\n",
       "      <td>...</td>\n",
       "      <td>...</td>\n",
       "      <td>...</td>\n",
       "      <td>...</td>\n",
       "      <td>...</td>\n",
       "      <td>...</td>\n",
       "    </tr>\n",
       "    <tr>\n",
       "      <th>41</th>\n",
       "      <td>30</td>\n",
       "      <td>2.00</td>\n",
       "      <td>59.02</td>\n",
       "      <td>59.44</td>\n",
       "      <td>12.00</td>\n",
       "      <td>5</td>\n",
       "      <td>5.00</td>\n",
       "      <td>2016</td>\n",
       "      <td>0.00</td>\n",
       "      <td>1</td>\n",
       "      <td>1</td>\n",
       "      <td>22</td>\n",
       "      <td>6398</td>\n",
       "      <td>141</td>\n",
       "      <td>1,046.00</td>\n",
       "      <td>3</td>\n",
       "      <td>23</td>\n",
       "      <td>1</td>\n",
       "      <td>126,281.14</td>\n",
       "    </tr>\n",
       "    <tr>\n",
       "      <th>12918</th>\n",
       "      <td>23</td>\n",
       "      <td>2.00</td>\n",
       "      <td>51.44</td>\n",
       "      <td>53.13</td>\n",
       "      <td>51.00</td>\n",
       "      <td>3</td>\n",
       "      <td>17.00</td>\n",
       "      <td>2017</td>\n",
       "      <td>0.01</td>\n",
       "      <td>1</td>\n",
       "      <td>1</td>\n",
       "      <td>1</td>\n",
       "      <td>388</td>\n",
       "      <td>0</td>\n",
       "      <td>540.00</td>\n",
       "      <td>0</td>\n",
       "      <td>0</td>\n",
       "      <td>1</td>\n",
       "      <td>88,150.01</td>\n",
       "    </tr>\n",
       "    <tr>\n",
       "      <th>2737</th>\n",
       "      <td>27</td>\n",
       "      <td>3.00</td>\n",
       "      <td>123.43</td>\n",
       "      <td>125.81</td>\n",
       "      <td>123.00</td>\n",
       "      <td>5</td>\n",
       "      <td>10.00</td>\n",
       "      <td>2015</td>\n",
       "      <td>0.02</td>\n",
       "      <td>1</td>\n",
       "      <td>1</td>\n",
       "      <td>2</td>\n",
       "      <td>469</td>\n",
       "      <td>0</td>\n",
       "      <td>540.00</td>\n",
       "      <td>0</td>\n",
       "      <td>0</td>\n",
       "      <td>1</td>\n",
       "      <td>234,194.84</td>\n",
       "    </tr>\n",
       "    <tr>\n",
       "      <th>14001</th>\n",
       "      <td>73</td>\n",
       "      <td>1.00</td>\n",
       "      <td>44.10</td>\n",
       "      <td>44.27</td>\n",
       "      <td>1.00</td>\n",
       "      <td>7</td>\n",
       "      <td>24.00</td>\n",
       "      <td>2014</td>\n",
       "      <td>0.04</td>\n",
       "      <td>1</td>\n",
       "      <td>1</td>\n",
       "      <td>37</td>\n",
       "      <td>6856</td>\n",
       "      <td>84</td>\n",
       "      <td>1,940.00</td>\n",
       "      <td>2</td>\n",
       "      <td>5</td>\n",
       "      <td>1</td>\n",
       "      <td>381,937.40</td>\n",
       "    </tr>\n",
       "    <tr>\n",
       "      <th>16568</th>\n",
       "      <td>27</td>\n",
       "      <td>4.00</td>\n",
       "      <td>200.33</td>\n",
       "      <td>201.63</td>\n",
       "      <td>25.00</td>\n",
       "      <td>1</td>\n",
       "      <td>2.00</td>\n",
       "      <td>2013</td>\n",
       "      <td>0.04</td>\n",
       "      <td>1</td>\n",
       "      <td>1</td>\n",
       "      <td>53</td>\n",
       "      <td>14892</td>\n",
       "      <td>4</td>\n",
       "      <td>620.00</td>\n",
       "      <td>1</td>\n",
       "      <td>4</td>\n",
       "      <td>1</td>\n",
       "      <td>528,560.51</td>\n",
       "    </tr>\n",
       "  </tbody>\n",
       "</table>\n",
       "<p>482 rows × 19 columns</p>\n",
       "</div>"
      ],
      "text/plain": [
       "      DistrictId  Rooms  Square  LifeSquare  KitchenSquare  Floor  HouseFloor  \\\n",
       "Id                                                                              \n",
       "8054          23   1.00   42.53       43.97           1.00      3        9.00   \n",
       "10521         38   3.00  104.21      106.34           0.00     20        0.00   \n",
       "2301           1   2.00   61.40       65.22           0.00     17       22.00   \n",
       "8753          25   3.00   85.95       89.80           1.00      4        3.00   \n",
       "9870          62   1.00   51.83       53.49           1.00      5        1.00   \n",
       "...          ...    ...     ...         ...            ...    ...         ...   \n",
       "41            30   2.00   59.02       59.44          12.00      5        5.00   \n",
       "12918         23   2.00   51.44       53.13          51.00      3       17.00   \n",
       "2737          27   3.00  123.43      125.81         123.00      5       10.00   \n",
       "14001         73   1.00   44.10       44.27           1.00      7       24.00   \n",
       "16568         27   4.00  200.33      201.63          25.00      1        2.00   \n",
       "\n",
       "       HouseYear  Ecology_1  Ecology_2  Ecology_3  Social_1  Social_2  \\\n",
       "Id                                                                      \n",
       "8054        2014       0.03          1          1         0       168   \n",
       "10521       2017       0.06          1          1        15      2787   \n",
       "2301        2016       0.01          1          1         1       264   \n",
       "8753        2017       0.07          1          1        53     13670   \n",
       "9870        2015       0.07          1          1         2       629   \n",
       "...          ...        ...        ...        ...       ...       ...   \n",
       "41          2016       0.00          1          1        22      6398   \n",
       "12918       2017       0.01          1          1         1       388   \n",
       "2737        2015       0.02          1          1         2       469   \n",
       "14001       2014       0.04          1          1        37      6856   \n",
       "16568       2013       0.04          1          1        53     14892   \n",
       "\n",
       "       Social_3  Healthcare_1  Helthcare_2  Shops_1  Shops_2      Price  \n",
       "Id                                                                       \n",
       "8054          0        540.00            0        0        1  95,338.20  \n",
       "10521         2        520.00            0        7        1 435,462.05  \n",
       "2301          0        540.00            0        1        1 199,215.45  \n",
       "8753          4        620.00            1       11        1 309,688.59  \n",
       "9870          1        540.00            0        0        0 131,797.47  \n",
       "...         ...           ...          ...      ...      ...        ...  \n",
       "41          141      1,046.00            3       23        1 126,281.14  \n",
       "12918         0        540.00            0        0        1  88,150.01  \n",
       "2737          0        540.00            0        0        1 234,194.84  \n",
       "14001        84      1,940.00            2        5        1 381,937.40  \n",
       "16568         4        620.00            1        4        1 528,560.51  \n",
       "\n",
       "[482 rows x 19 columns]"
      ]
     },
     "execution_count": 48,
     "metadata": {},
     "output_type": "execute_result"
    }
   ],
   "source": [
    "train_df[train_df['LifeSquare'] > train_df['Square']]"
   ]
  },
  {
   "cell_type": "code",
   "execution_count": 49,
   "metadata": {},
   "outputs": [
    {
     "data": {
      "text/html": [
       "<div>\n",
       "<style scoped>\n",
       "    .dataframe tbody tr th:only-of-type {\n",
       "        vertical-align: middle;\n",
       "    }\n",
       "\n",
       "    .dataframe tbody tr th {\n",
       "        vertical-align: top;\n",
       "    }\n",
       "\n",
       "    .dataframe thead th {\n",
       "        text-align: right;\n",
       "    }\n",
       "</style>\n",
       "<table border=\"1\" class=\"dataframe\">\n",
       "  <thead>\n",
       "    <tr style=\"text-align: right;\">\n",
       "      <th></th>\n",
       "      <th>DistrictId</th>\n",
       "      <th>Rooms</th>\n",
       "      <th>Square</th>\n",
       "      <th>LifeSquare</th>\n",
       "      <th>KitchenSquare</th>\n",
       "      <th>Floor</th>\n",
       "      <th>HouseFloor</th>\n",
       "      <th>HouseYear</th>\n",
       "      <th>Ecology_1</th>\n",
       "      <th>Ecology_2</th>\n",
       "      <th>Ecology_3</th>\n",
       "      <th>Social_1</th>\n",
       "      <th>Social_2</th>\n",
       "      <th>Social_3</th>\n",
       "      <th>Healthcare_1</th>\n",
       "      <th>Helthcare_2</th>\n",
       "      <th>Shops_1</th>\n",
       "      <th>Shops_2</th>\n",
       "    </tr>\n",
       "    <tr>\n",
       "      <th>Id</th>\n",
       "      <th></th>\n",
       "      <th></th>\n",
       "      <th></th>\n",
       "      <th></th>\n",
       "      <th></th>\n",
       "      <th></th>\n",
       "      <th></th>\n",
       "      <th></th>\n",
       "      <th></th>\n",
       "      <th></th>\n",
       "      <th></th>\n",
       "      <th></th>\n",
       "      <th></th>\n",
       "      <th></th>\n",
       "      <th></th>\n",
       "      <th></th>\n",
       "      <th></th>\n",
       "      <th></th>\n",
       "    </tr>\n",
       "  </thead>\n",
       "  <tbody>\n",
       "    <tr>\n",
       "      <th>5480</th>\n",
       "      <td>190</td>\n",
       "      <td>1.00</td>\n",
       "      <td>13.60</td>\n",
       "      <td>15.95</td>\n",
       "      <td>12.00</td>\n",
       "      <td>2</td>\n",
       "      <td>5.00</td>\n",
       "      <td>1909</td>\n",
       "      <td>0.00</td>\n",
       "      <td>1</td>\n",
       "      <td>1</td>\n",
       "      <td>30</td>\n",
       "      <td>7538</td>\n",
       "      <td>87</td>\n",
       "      <td>4,702.00</td>\n",
       "      <td>5</td>\n",
       "      <td>5</td>\n",
       "      <td>1</td>\n",
       "    </tr>\n",
       "    <tr>\n",
       "      <th>11160</th>\n",
       "      <td>58</td>\n",
       "      <td>1.00</td>\n",
       "      <td>48.61</td>\n",
       "      <td>48.75</td>\n",
       "      <td>1.00</td>\n",
       "      <td>4</td>\n",
       "      <td>3.00</td>\n",
       "      <td>1977</td>\n",
       "      <td>0.44</td>\n",
       "      <td>1</td>\n",
       "      <td>1</td>\n",
       "      <td>23</td>\n",
       "      <td>5735</td>\n",
       "      <td>3</td>\n",
       "      <td>1,084.00</td>\n",
       "      <td>0</td>\n",
       "      <td>5</td>\n",
       "      <td>1</td>\n",
       "    </tr>\n",
       "    <tr>\n",
       "      <th>6624</th>\n",
       "      <td>27</td>\n",
       "      <td>1.00</td>\n",
       "      <td>42.41</td>\n",
       "      <td>42.43</td>\n",
       "      <td>10.00</td>\n",
       "      <td>12</td>\n",
       "      <td>17.00</td>\n",
       "      <td>2017</td>\n",
       "      <td>0.01</td>\n",
       "      <td>1</td>\n",
       "      <td>1</td>\n",
       "      <td>4</td>\n",
       "      <td>915</td>\n",
       "      <td>0</td>\n",
       "      <td>540.00</td>\n",
       "      <td>0</td>\n",
       "      <td>0</td>\n",
       "      <td>1</td>\n",
       "    </tr>\n",
       "    <tr>\n",
       "      <th>11513</th>\n",
       "      <td>1</td>\n",
       "      <td>1.00</td>\n",
       "      <td>37.48</td>\n",
       "      <td>40.59</td>\n",
       "      <td>0.00</td>\n",
       "      <td>4</td>\n",
       "      <td>17.00</td>\n",
       "      <td>1977</td>\n",
       "      <td>0.01</td>\n",
       "      <td>1</td>\n",
       "      <td>1</td>\n",
       "      <td>1</td>\n",
       "      <td>264</td>\n",
       "      <td>0</td>\n",
       "      <td>540.00</td>\n",
       "      <td>0</td>\n",
       "      <td>1</td>\n",
       "      <td>1</td>\n",
       "    </tr>\n",
       "    <tr>\n",
       "      <th>1872</th>\n",
       "      <td>30</td>\n",
       "      <td>2.00</td>\n",
       "      <td>52.45</td>\n",
       "      <td>52.80</td>\n",
       "      <td>1.00</td>\n",
       "      <td>17</td>\n",
       "      <td>17.00</td>\n",
       "      <td>2016</td>\n",
       "      <td>0.00</td>\n",
       "      <td>1</td>\n",
       "      <td>1</td>\n",
       "      <td>22</td>\n",
       "      <td>6398</td>\n",
       "      <td>141</td>\n",
       "      <td>1,046.00</td>\n",
       "      <td>3</td>\n",
       "      <td>23</td>\n",
       "      <td>1</td>\n",
       "    </tr>\n",
       "    <tr>\n",
       "      <th>...</th>\n",
       "      <td>...</td>\n",
       "      <td>...</td>\n",
       "      <td>...</td>\n",
       "      <td>...</td>\n",
       "      <td>...</td>\n",
       "      <td>...</td>\n",
       "      <td>...</td>\n",
       "      <td>...</td>\n",
       "      <td>...</td>\n",
       "      <td>...</td>\n",
       "      <td>...</td>\n",
       "      <td>...</td>\n",
       "      <td>...</td>\n",
       "      <td>...</td>\n",
       "      <td>...</td>\n",
       "      <td>...</td>\n",
       "      <td>...</td>\n",
       "      <td>...</td>\n",
       "    </tr>\n",
       "    <tr>\n",
       "      <th>14686</th>\n",
       "      <td>1</td>\n",
       "      <td>3.00</td>\n",
       "      <td>77.23</td>\n",
       "      <td>79.96</td>\n",
       "      <td>1.00</td>\n",
       "      <td>18</td>\n",
       "      <td>17.00</td>\n",
       "      <td>1977</td>\n",
       "      <td>0.01</td>\n",
       "      <td>1</td>\n",
       "      <td>1</td>\n",
       "      <td>1</td>\n",
       "      <td>264</td>\n",
       "      <td>0</td>\n",
       "      <td>540.00</td>\n",
       "      <td>0</td>\n",
       "      <td>1</td>\n",
       "      <td>1</td>\n",
       "    </tr>\n",
       "    <tr>\n",
       "      <th>3711</th>\n",
       "      <td>94</td>\n",
       "      <td>1.00</td>\n",
       "      <td>41.28</td>\n",
       "      <td>42.39</td>\n",
       "      <td>10.00</td>\n",
       "      <td>13</td>\n",
       "      <td>13.00</td>\n",
       "      <td>2014</td>\n",
       "      <td>0.28</td>\n",
       "      <td>1</td>\n",
       "      <td>1</td>\n",
       "      <td>33</td>\n",
       "      <td>8667</td>\n",
       "      <td>2</td>\n",
       "      <td>540.00</td>\n",
       "      <td>0</td>\n",
       "      <td>6</td>\n",
       "      <td>1</td>\n",
       "    </tr>\n",
       "    <tr>\n",
       "      <th>5820</th>\n",
       "      <td>94</td>\n",
       "      <td>1.00</td>\n",
       "      <td>33.68</td>\n",
       "      <td>34.20</td>\n",
       "      <td>1.00</td>\n",
       "      <td>10</td>\n",
       "      <td>9.00</td>\n",
       "      <td>1972</td>\n",
       "      <td>0.13</td>\n",
       "      <td>1</td>\n",
       "      <td>1</td>\n",
       "      <td>43</td>\n",
       "      <td>8429</td>\n",
       "      <td>3</td>\n",
       "      <td>1,145.00</td>\n",
       "      <td>3</td>\n",
       "      <td>9</td>\n",
       "      <td>1</td>\n",
       "    </tr>\n",
       "    <tr>\n",
       "      <th>4821</th>\n",
       "      <td>74</td>\n",
       "      <td>2.00</td>\n",
       "      <td>82.54</td>\n",
       "      <td>82.59</td>\n",
       "      <td>0.00</td>\n",
       "      <td>4</td>\n",
       "      <td>17.00</td>\n",
       "      <td>2015</td>\n",
       "      <td>0.31</td>\n",
       "      <td>1</td>\n",
       "      <td>1</td>\n",
       "      <td>35</td>\n",
       "      <td>7715</td>\n",
       "      <td>4</td>\n",
       "      <td>990.00</td>\n",
       "      <td>0</td>\n",
       "      <td>6</td>\n",
       "      <td>1</td>\n",
       "    </tr>\n",
       "    <tr>\n",
       "      <th>5296</th>\n",
       "      <td>52</td>\n",
       "      <td>1.00</td>\n",
       "      <td>44.44</td>\n",
       "      <td>44.63</td>\n",
       "      <td>0.00</td>\n",
       "      <td>5</td>\n",
       "      <td>17.00</td>\n",
       "      <td>1977</td>\n",
       "      <td>0.37</td>\n",
       "      <td>1</td>\n",
       "      <td>1</td>\n",
       "      <td>34</td>\n",
       "      <td>7065</td>\n",
       "      <td>1</td>\n",
       "      <td>750.00</td>\n",
       "      <td>2</td>\n",
       "      <td>5</td>\n",
       "      <td>1</td>\n",
       "    </tr>\n",
       "  </tbody>\n",
       "</table>\n",
       "<p>241 rows × 18 columns</p>\n",
       "</div>"
      ],
      "text/plain": [
       "      DistrictId  Rooms  Square  LifeSquare  KitchenSquare  Floor  HouseFloor  \\\n",
       "Id                                                                              \n",
       "5480         190   1.00   13.60       15.95          12.00      2        5.00   \n",
       "11160         58   1.00   48.61       48.75           1.00      4        3.00   \n",
       "6624          27   1.00   42.41       42.43          10.00     12       17.00   \n",
       "11513          1   1.00   37.48       40.59           0.00      4       17.00   \n",
       "1872          30   2.00   52.45       52.80           1.00     17       17.00   \n",
       "...          ...    ...     ...         ...            ...    ...         ...   \n",
       "14686          1   3.00   77.23       79.96           1.00     18       17.00   \n",
       "3711          94   1.00   41.28       42.39          10.00     13       13.00   \n",
       "5820          94   1.00   33.68       34.20           1.00     10        9.00   \n",
       "4821          74   2.00   82.54       82.59           0.00      4       17.00   \n",
       "5296          52   1.00   44.44       44.63           0.00      5       17.00   \n",
       "\n",
       "       HouseYear  Ecology_1  Ecology_2  Ecology_3  Social_1  Social_2  \\\n",
       "Id                                                                      \n",
       "5480        1909       0.00          1          1        30      7538   \n",
       "11160       1977       0.44          1          1        23      5735   \n",
       "6624        2017       0.01          1          1         4       915   \n",
       "11513       1977       0.01          1          1         1       264   \n",
       "1872        2016       0.00          1          1        22      6398   \n",
       "...          ...        ...        ...        ...       ...       ...   \n",
       "14686       1977       0.01          1          1         1       264   \n",
       "3711        2014       0.28          1          1        33      8667   \n",
       "5820        1972       0.13          1          1        43      8429   \n",
       "4821        2015       0.31          1          1        35      7715   \n",
       "5296        1977       0.37          1          1        34      7065   \n",
       "\n",
       "       Social_3  Healthcare_1  Helthcare_2  Shops_1  Shops_2  \n",
       "Id                                                            \n",
       "5480         87      4,702.00            5        5        1  \n",
       "11160         3      1,084.00            0        5        1  \n",
       "6624          0        540.00            0        0        1  \n",
       "11513         0        540.00            0        1        1  \n",
       "1872        141      1,046.00            3       23        1  \n",
       "...         ...           ...          ...      ...      ...  \n",
       "14686         0        540.00            0        1        1  \n",
       "3711          2        540.00            0        6        1  \n",
       "5820          3      1,145.00            3        9        1  \n",
       "4821          4        990.00            0        6        1  \n",
       "5296          1        750.00            2        5        1  \n",
       "\n",
       "[241 rows x 18 columns]"
      ]
     },
     "execution_count": 49,
     "metadata": {},
     "output_type": "execute_result"
    }
   ],
   "source": [
    "test_df[test_df['LifeSquare'] > test_df['Square']]"
   ]
  },
  {
   "cell_type": "code",
   "execution_count": 50,
   "metadata": {},
   "outputs": [],
   "source": [
    "train_df.loc[train_df['LifeSquare'] > train_df['Square'], 'LifeSquare'] = \\\n",
    "    train_df.loc[train_df['LifeSquare'] > train_df['Square'], 'Square'] - train_df.loc[train_df['LifeSquare'] > train_df['Square'], 'KitchenSquare']"
   ]
  },
  {
   "cell_type": "code",
   "execution_count": 51,
   "metadata": {},
   "outputs": [],
   "source": [
    "test_df.loc[test_df['LifeSquare'] > test_df['Square'], 'LifeSquare'] = \\\n",
    "    test_df.loc[test_df['LifeSquare'] > test_df['Square'], 'Square'] - test_df.loc[test_df['LifeSquare'] > test_df['Square'], 'KitchenSquare']"
   ]
  },
  {
   "cell_type": "markdown",
   "metadata": {},
   "source": [
    "Для строк с KitchenSquare большей Square замена на Square - LifeSquare"
   ]
  },
  {
   "cell_type": "code",
   "execution_count": 52,
   "metadata": {},
   "outputs": [
    {
     "data": {
      "text/html": [
       "<div>\n",
       "<style scoped>\n",
       "    .dataframe tbody tr th:only-of-type {\n",
       "        vertical-align: middle;\n",
       "    }\n",
       "\n",
       "    .dataframe tbody tr th {\n",
       "        vertical-align: top;\n",
       "    }\n",
       "\n",
       "    .dataframe thead th {\n",
       "        text-align: right;\n",
       "    }\n",
       "</style>\n",
       "<table border=\"1\" class=\"dataframe\">\n",
       "  <thead>\n",
       "    <tr style=\"text-align: right;\">\n",
       "      <th></th>\n",
       "      <th>DistrictId</th>\n",
       "      <th>Rooms</th>\n",
       "      <th>Square</th>\n",
       "      <th>LifeSquare</th>\n",
       "      <th>KitchenSquare</th>\n",
       "      <th>Floor</th>\n",
       "      <th>HouseFloor</th>\n",
       "      <th>HouseYear</th>\n",
       "      <th>Ecology_1</th>\n",
       "      <th>Ecology_2</th>\n",
       "      <th>Ecology_3</th>\n",
       "      <th>Social_1</th>\n",
       "      <th>Social_2</th>\n",
       "      <th>Social_3</th>\n",
       "      <th>Healthcare_1</th>\n",
       "      <th>Helthcare_2</th>\n",
       "      <th>Shops_1</th>\n",
       "      <th>Shops_2</th>\n",
       "      <th>Price</th>\n",
       "    </tr>\n",
       "    <tr>\n",
       "      <th>Id</th>\n",
       "      <th></th>\n",
       "      <th></th>\n",
       "      <th></th>\n",
       "      <th></th>\n",
       "      <th></th>\n",
       "      <th></th>\n",
       "      <th></th>\n",
       "      <th></th>\n",
       "      <th></th>\n",
       "      <th></th>\n",
       "      <th></th>\n",
       "      <th></th>\n",
       "      <th></th>\n",
       "      <th></th>\n",
       "      <th></th>\n",
       "      <th></th>\n",
       "      <th></th>\n",
       "      <th></th>\n",
       "      <th></th>\n",
       "    </tr>\n",
       "  </thead>\n",
       "  <tbody>\n",
       "    <tr>\n",
       "      <th>14656</th>\n",
       "      <td>62</td>\n",
       "      <td>1.00</td>\n",
       "      <td>47.10</td>\n",
       "      <td>46.45</td>\n",
       "      <td>2,014.00</td>\n",
       "      <td>4</td>\n",
       "      <td>1.00</td>\n",
       "      <td>2014</td>\n",
       "      <td>0.07</td>\n",
       "      <td>1</td>\n",
       "      <td>1</td>\n",
       "      <td>2</td>\n",
       "      <td>629</td>\n",
       "      <td>1</td>\n",
       "      <td>540.00</td>\n",
       "      <td>0</td>\n",
       "      <td>0</td>\n",
       "      <td>0</td>\n",
       "      <td>108,337.48</td>\n",
       "    </tr>\n",
       "    <tr>\n",
       "      <th>13703</th>\n",
       "      <td>42</td>\n",
       "      <td>1.00</td>\n",
       "      <td>38.07</td>\n",
       "      <td>19.72</td>\n",
       "      <td>73.00</td>\n",
       "      <td>9</td>\n",
       "      <td>10.00</td>\n",
       "      <td>2006</td>\n",
       "      <td>0.16</td>\n",
       "      <td>1</td>\n",
       "      <td>1</td>\n",
       "      <td>21</td>\n",
       "      <td>5731</td>\n",
       "      <td>0</td>\n",
       "      <td>620.00</td>\n",
       "      <td>1</td>\n",
       "      <td>0</td>\n",
       "      <td>1</td>\n",
       "      <td>160,488.03</td>\n",
       "    </tr>\n",
       "    <tr>\n",
       "      <th>6569</th>\n",
       "      <td>27</td>\n",
       "      <td>1.00</td>\n",
       "      <td>38.22</td>\n",
       "      <td>18.72</td>\n",
       "      <td>84.00</td>\n",
       "      <td>4</td>\n",
       "      <td>17.00</td>\n",
       "      <td>2018</td>\n",
       "      <td>0.01</td>\n",
       "      <td>1</td>\n",
       "      <td>1</td>\n",
       "      <td>4</td>\n",
       "      <td>915</td>\n",
       "      <td>0</td>\n",
       "      <td>540.00</td>\n",
       "      <td>0</td>\n",
       "      <td>0</td>\n",
       "      <td>1</td>\n",
       "      <td>99,079.96</td>\n",
       "    </tr>\n",
       "    <tr>\n",
       "      <th>14679</th>\n",
       "      <td>81</td>\n",
       "      <td>1.00</td>\n",
       "      <td>32.28</td>\n",
       "      <td>19.28</td>\n",
       "      <td>1,970.00</td>\n",
       "      <td>6</td>\n",
       "      <td>1.00</td>\n",
       "      <td>1977</td>\n",
       "      <td>0.01</td>\n",
       "      <td>1</td>\n",
       "      <td>1</td>\n",
       "      <td>30</td>\n",
       "      <td>5285</td>\n",
       "      <td>0</td>\n",
       "      <td>645.00</td>\n",
       "      <td>6</td>\n",
       "      <td>6</td>\n",
       "      <td>1</td>\n",
       "      <td>105,539.56</td>\n",
       "    </tr>\n",
       "  </tbody>\n",
       "</table>\n",
       "</div>"
      ],
      "text/plain": [
       "      DistrictId  Rooms  Square  LifeSquare  KitchenSquare  Floor  HouseFloor  \\\n",
       "Id                                                                              \n",
       "14656         62   1.00   47.10       46.45       2,014.00      4        1.00   \n",
       "13703         42   1.00   38.07       19.72          73.00      9       10.00   \n",
       "6569          27   1.00   38.22       18.72          84.00      4       17.00   \n",
       "14679         81   1.00   32.28       19.28       1,970.00      6        1.00   \n",
       "\n",
       "       HouseYear  Ecology_1  Ecology_2  Ecology_3  Social_1  Social_2  \\\n",
       "Id                                                                      \n",
       "14656       2014       0.07          1          1         2       629   \n",
       "13703       2006       0.16          1          1        21      5731   \n",
       "6569        2018       0.01          1          1         4       915   \n",
       "14679       1977       0.01          1          1        30      5285   \n",
       "\n",
       "       Social_3  Healthcare_1  Helthcare_2  Shops_1  Shops_2      Price  \n",
       "Id                                                                       \n",
       "14656         1        540.00            0        0        0 108,337.48  \n",
       "13703         0        620.00            1        0        1 160,488.03  \n",
       "6569          0        540.00            0        0        1  99,079.96  \n",
       "14679         0        645.00            6        6        1 105,539.56  "
      ]
     },
     "execution_count": 52,
     "metadata": {},
     "output_type": "execute_result"
    }
   ],
   "source": [
    "train_df[train_df['KitchenSquare'] > train_df['Square']]"
   ]
  },
  {
   "cell_type": "code",
   "execution_count": 53,
   "metadata": {},
   "outputs": [],
   "source": [
    "train_df.loc[train_df['KitchenSquare'] > train_df['Square'], 'KitchenSquare'] = \\\n",
    "   train_df.loc[train_df['KitchenSquare'] > train_df['Square'], 'Square'] - train_df.loc[train_df['KitchenSquare'] > train_df['Square'], 'LifeSquare']"
   ]
  },
  {
   "cell_type": "code",
   "execution_count": 54,
   "metadata": {},
   "outputs": [
    {
     "data": {
      "text/html": [
       "<div>\n",
       "<style scoped>\n",
       "    .dataframe tbody tr th:only-of-type {\n",
       "        vertical-align: middle;\n",
       "    }\n",
       "\n",
       "    .dataframe tbody tr th {\n",
       "        vertical-align: top;\n",
       "    }\n",
       "\n",
       "    .dataframe thead th {\n",
       "        text-align: right;\n",
       "    }\n",
       "</style>\n",
       "<table border=\"1\" class=\"dataframe\">\n",
       "  <thead>\n",
       "    <tr style=\"text-align: right;\">\n",
       "      <th></th>\n",
       "      <th>DistrictId</th>\n",
       "      <th>Rooms</th>\n",
       "      <th>Square</th>\n",
       "      <th>LifeSquare</th>\n",
       "      <th>KitchenSquare</th>\n",
       "      <th>Floor</th>\n",
       "      <th>HouseFloor</th>\n",
       "      <th>HouseYear</th>\n",
       "      <th>Ecology_1</th>\n",
       "      <th>Ecology_2</th>\n",
       "      <th>Ecology_3</th>\n",
       "      <th>Social_1</th>\n",
       "      <th>Social_2</th>\n",
       "      <th>Social_3</th>\n",
       "      <th>Healthcare_1</th>\n",
       "      <th>Helthcare_2</th>\n",
       "      <th>Shops_1</th>\n",
       "      <th>Shops_2</th>\n",
       "    </tr>\n",
       "    <tr>\n",
       "      <th>Id</th>\n",
       "      <th></th>\n",
       "      <th></th>\n",
       "      <th></th>\n",
       "      <th></th>\n",
       "      <th></th>\n",
       "      <th></th>\n",
       "      <th></th>\n",
       "      <th></th>\n",
       "      <th></th>\n",
       "      <th></th>\n",
       "      <th></th>\n",
       "      <th></th>\n",
       "      <th></th>\n",
       "      <th></th>\n",
       "      <th></th>\n",
       "      <th></th>\n",
       "      <th></th>\n",
       "      <th></th>\n",
       "    </tr>\n",
       "  </thead>\n",
       "  <tbody>\n",
       "    <tr>\n",
       "      <th>14594</th>\n",
       "      <td>11</td>\n",
       "      <td>2.00</td>\n",
       "      <td>42.80</td>\n",
       "      <td>24.22</td>\n",
       "      <td>620.00</td>\n",
       "      <td>11</td>\n",
       "      <td>14.00</td>\n",
       "      <td>1972</td>\n",
       "      <td>0.04</td>\n",
       "      <td>1</td>\n",
       "      <td>1</td>\n",
       "      <td>28</td>\n",
       "      <td>6533</td>\n",
       "      <td>1</td>\n",
       "      <td>1,015.00</td>\n",
       "      <td>2</td>\n",
       "      <td>5</td>\n",
       "      <td>1</td>\n",
       "    </tr>\n",
       "    <tr>\n",
       "      <th>10662</th>\n",
       "      <td>29</td>\n",
       "      <td>1.00</td>\n",
       "      <td>25.96</td>\n",
       "      <td>17.25</td>\n",
       "      <td>33.00</td>\n",
       "      <td>5</td>\n",
       "      <td>5.00</td>\n",
       "      <td>1973</td>\n",
       "      <td>0.07</td>\n",
       "      <td>1</td>\n",
       "      <td>1</td>\n",
       "      <td>31</td>\n",
       "      <td>6119</td>\n",
       "      <td>4</td>\n",
       "      <td>620.00</td>\n",
       "      <td>1</td>\n",
       "      <td>2</td>\n",
       "      <td>1</td>\n",
       "    </tr>\n",
       "    <tr>\n",
       "      <th>3194</th>\n",
       "      <td>29</td>\n",
       "      <td>2.00</td>\n",
       "      <td>43.93</td>\n",
       "      <td>31.03</td>\n",
       "      <td>44.00</td>\n",
       "      <td>6</td>\n",
       "      <td>5.00</td>\n",
       "      <td>1964</td>\n",
       "      <td>0.09</td>\n",
       "      <td>1</td>\n",
       "      <td>1</td>\n",
       "      <td>10</td>\n",
       "      <td>2277</td>\n",
       "      <td>2</td>\n",
       "      <td>1,547.00</td>\n",
       "      <td>0</td>\n",
       "      <td>0</td>\n",
       "      <td>1</td>\n",
       "    </tr>\n",
       "    <tr>\n",
       "      <th>12640</th>\n",
       "      <td>6</td>\n",
       "      <td>2.00</td>\n",
       "      <td>54.63</td>\n",
       "      <td>31.49</td>\n",
       "      <td>97.00</td>\n",
       "      <td>4</td>\n",
       "      <td>17.00</td>\n",
       "      <td>2015</td>\n",
       "      <td>0.24</td>\n",
       "      <td>1</td>\n",
       "      <td>1</td>\n",
       "      <td>5</td>\n",
       "      <td>1564</td>\n",
       "      <td>0</td>\n",
       "      <td>540.00</td>\n",
       "      <td>0</td>\n",
       "      <td>0</td>\n",
       "      <td>1</td>\n",
       "    </tr>\n",
       "  </tbody>\n",
       "</table>\n",
       "</div>"
      ],
      "text/plain": [
       "      DistrictId  Rooms  Square  LifeSquare  KitchenSquare  Floor  HouseFloor  \\\n",
       "Id                                                                              \n",
       "14594         11   2.00   42.80       24.22         620.00     11       14.00   \n",
       "10662         29   1.00   25.96       17.25          33.00      5        5.00   \n",
       "3194          29   2.00   43.93       31.03          44.00      6        5.00   \n",
       "12640          6   2.00   54.63       31.49          97.00      4       17.00   \n",
       "\n",
       "       HouseYear  Ecology_1  Ecology_2  Ecology_3  Social_1  Social_2  \\\n",
       "Id                                                                      \n",
       "14594       1972       0.04          1          1        28      6533   \n",
       "10662       1973       0.07          1          1        31      6119   \n",
       "3194        1964       0.09          1          1        10      2277   \n",
       "12640       2015       0.24          1          1         5      1564   \n",
       "\n",
       "       Social_3  Healthcare_1  Helthcare_2  Shops_1  Shops_2  \n",
       "Id                                                            \n",
       "14594         1      1,015.00            2        5        1  \n",
       "10662         4        620.00            1        2        1  \n",
       "3194          2      1,547.00            0        0        1  \n",
       "12640         0        540.00            0        0        1  "
      ]
     },
     "execution_count": 54,
     "metadata": {},
     "output_type": "execute_result"
    }
   ],
   "source": [
    "test_df[test_df['KitchenSquare'] > test_df['Square']]"
   ]
  },
  {
   "cell_type": "code",
   "execution_count": 55,
   "metadata": {},
   "outputs": [],
   "source": [
    "test_df.loc[test_df['KitchenSquare'] > test_df['Square'], 'KitchenSquare'] = \\\n",
    "   test_df.loc[test_df['KitchenSquare'] > test_df['Square'], 'Square'] - test_df.loc[test_df['KitchenSquare'] > test_df['Square'], 'LifeSquare']"
   ]
  },
  {
   "cell_type": "code",
   "execution_count": 56,
   "metadata": {},
   "outputs": [
    {
     "data": {
      "text/html": [
       "<div>\n",
       "<style scoped>\n",
       "    .dataframe tbody tr th:only-of-type {\n",
       "        vertical-align: middle;\n",
       "    }\n",
       "\n",
       "    .dataframe tbody tr th {\n",
       "        vertical-align: top;\n",
       "    }\n",
       "\n",
       "    .dataframe thead th {\n",
       "        text-align: right;\n",
       "    }\n",
       "</style>\n",
       "<table border=\"1\" class=\"dataframe\">\n",
       "  <thead>\n",
       "    <tr style=\"text-align: right;\">\n",
       "      <th></th>\n",
       "      <th>Square</th>\n",
       "      <th>LifeSquare</th>\n",
       "      <th>KitchenSquare</th>\n",
       "    </tr>\n",
       "  </thead>\n",
       "  <tbody>\n",
       "    <tr>\n",
       "      <th>count</th>\n",
       "      <td>10,000.00</td>\n",
       "      <td>10,000.00</td>\n",
       "      <td>10,000.00</td>\n",
       "    </tr>\n",
       "    <tr>\n",
       "      <th>mean</th>\n",
       "      <td>56.32</td>\n",
       "      <td>40.71</td>\n",
       "      <td>5.86</td>\n",
       "    </tr>\n",
       "    <tr>\n",
       "      <th>std</th>\n",
       "      <td>21.06</td>\n",
       "      <td>22.13</td>\n",
       "      <td>5.07</td>\n",
       "    </tr>\n",
       "    <tr>\n",
       "      <th>min</th>\n",
       "      <td>1.14</td>\n",
       "      <td>0.14</td>\n",
       "      <td>0.00</td>\n",
       "    </tr>\n",
       "    <tr>\n",
       "      <th>25%</th>\n",
       "      <td>41.77</td>\n",
       "      <td>25.35</td>\n",
       "      <td>1.00</td>\n",
       "    </tr>\n",
       "    <tr>\n",
       "      <th>50%</th>\n",
       "      <td>52.51</td>\n",
       "      <td>36.71</td>\n",
       "      <td>6.00</td>\n",
       "    </tr>\n",
       "    <tr>\n",
       "      <th>75%</th>\n",
       "      <td>65.90</td>\n",
       "      <td>49.52</td>\n",
       "      <td>9.00</td>\n",
       "    </tr>\n",
       "    <tr>\n",
       "      <th>max</th>\n",
       "      <td>641.07</td>\n",
       "      <td>638.16</td>\n",
       "      <td>123.00</td>\n",
       "    </tr>\n",
       "  </tbody>\n",
       "</table>\n",
       "</div>"
      ],
      "text/plain": [
       "         Square  LifeSquare  KitchenSquare\n",
       "count 10,000.00   10,000.00      10,000.00\n",
       "mean      56.32       40.71           5.86\n",
       "std       21.06       22.13           5.07\n",
       "min        1.14        0.14           0.00\n",
       "25%       41.77       25.35           1.00\n",
       "50%       52.51       36.71           6.00\n",
       "75%       65.90       49.52           9.00\n",
       "max      641.07      638.16         123.00"
      ]
     },
     "execution_count": 56,
     "metadata": {},
     "output_type": "execute_result"
    }
   ],
   "source": [
    "train_df[['Square', 'LifeSquare', 'KitchenSquare']].describe()"
   ]
  },
  {
   "cell_type": "code",
   "execution_count": 57,
   "metadata": {
    "scrolled": true
   },
   "outputs": [
    {
     "data": {
      "text/html": [
       "<div>\n",
       "<style scoped>\n",
       "    .dataframe tbody tr th:only-of-type {\n",
       "        vertical-align: middle;\n",
       "    }\n",
       "\n",
       "    .dataframe tbody tr th {\n",
       "        vertical-align: top;\n",
       "    }\n",
       "\n",
       "    .dataframe thead th {\n",
       "        text-align: right;\n",
       "    }\n",
       "</style>\n",
       "<table border=\"1\" class=\"dataframe\">\n",
       "  <thead>\n",
       "    <tr style=\"text-align: right;\">\n",
       "      <th></th>\n",
       "      <th>Square</th>\n",
       "      <th>LifeSquare</th>\n",
       "      <th>KitchenSquare</th>\n",
       "    </tr>\n",
       "  </thead>\n",
       "  <tbody>\n",
       "    <tr>\n",
       "      <th>count</th>\n",
       "      <td>5,000.00</td>\n",
       "      <td>5,000.00</td>\n",
       "      <td>5,000.00</td>\n",
       "    </tr>\n",
       "    <tr>\n",
       "      <th>mean</th>\n",
       "      <td>56.45</td>\n",
       "      <td>40.55</td>\n",
       "      <td>5.83</td>\n",
       "    </tr>\n",
       "    <tr>\n",
       "      <th>std</th>\n",
       "      <td>19.09</td>\n",
       "      <td>19.76</td>\n",
       "      <td>4.64</td>\n",
       "    </tr>\n",
       "    <tr>\n",
       "      <th>min</th>\n",
       "      <td>1.38</td>\n",
       "      <td>0.11</td>\n",
       "      <td>0.00</td>\n",
       "    </tr>\n",
       "    <tr>\n",
       "      <th>25%</th>\n",
       "      <td>41.91</td>\n",
       "      <td>25.74</td>\n",
       "      <td>1.00</td>\n",
       "    </tr>\n",
       "    <tr>\n",
       "      <th>50%</th>\n",
       "      <td>52.92</td>\n",
       "      <td>36.72</td>\n",
       "      <td>6.00</td>\n",
       "    </tr>\n",
       "    <tr>\n",
       "      <th>75%</th>\n",
       "      <td>66.29</td>\n",
       "      <td>49.73</td>\n",
       "      <td>9.00</td>\n",
       "    </tr>\n",
       "    <tr>\n",
       "      <th>max</th>\n",
       "      <td>223.45</td>\n",
       "      <td>168.73</td>\n",
       "      <td>112.00</td>\n",
       "    </tr>\n",
       "  </tbody>\n",
       "</table>\n",
       "</div>"
      ],
      "text/plain": [
       "        Square  LifeSquare  KitchenSquare\n",
       "count 5,000.00    5,000.00       5,000.00\n",
       "mean     56.45       40.55           5.83\n",
       "std      19.09       19.76           4.64\n",
       "min       1.38        0.11           0.00\n",
       "25%      41.91       25.74           1.00\n",
       "50%      52.92       36.72           6.00\n",
       "75%      66.29       49.73           9.00\n",
       "max     223.45      168.73         112.00"
      ]
     },
     "execution_count": 57,
     "metadata": {},
     "output_type": "execute_result"
    }
   ],
   "source": [
    "test_df[['Square', 'LifeSquare', 'KitchenSquare']].describe()"
   ]
  },
  {
   "cell_type": "code",
   "execution_count": 58,
   "metadata": {},
   "outputs": [
    {
     "data": {
      "image/png": "[encoded data removed]",
      "text/plain": [
       "<Figure size 432x432 with 3 Axes>"
      ]
     },
     "metadata": {},
     "output_type": "display_data"
    }
   ],
   "source": [
    "sns.jointplot(train_df['KitchenSquare'], train_df['Square'], kind='scatter', height=6);"
   ]
  },
  {
   "cell_type": "code",
   "execution_count": 61,
   "metadata": {},
   "outputs": [
    {
     "data": {
      "image/png": "[encoded data removed]",
      "text/plain": [
       "<Figure size 432x432 with 3 Axes>"
      ]
     },
     "metadata": {},
     "output_type": "display_data"
    }
   ],
   "source": [
    "sns.jointplot(test_df['LifeSquare'], test_df['Square'], kind='scatter', height=6);"
   ]
  },
  {
   "cell_type": "code",
   "execution_count": 60,
   "metadata": {},
   "outputs": [
    {
     "data": {
      "image/png": "[encoded data removed]",
      "text/plain": [
       "<Figure size 432x432 with 3 Axes>"
      ]
     },
     "metadata": {},
     "output_type": "display_data"
    }
   ],
   "source": [
    "sns.jointplot(train_df['LifeSquare'], train_df['Price'], kind='scatter', height=6);"
   ]
  },
  {
   "cell_type": "markdown",
   "metadata": {},
   "source": [
    "#### Rooms"
   ]
  },
  {
   "cell_type": "code",
   "execution_count": 62,
   "metadata": {},
   "outputs": [
    {
     "data": {
      "text/plain": [
       "2.00     3880\n",
       "1.00     3705\n",
       "3.00     2235\n",
       "4.00      150\n",
       "5.00       18\n",
       "0.00        8\n",
       "10.00       2\n",
       "19.00       1\n",
       "6.00        1\n",
       "Name: Rooms, dtype: int64"
      ]
     },
     "execution_count": 62,
     "metadata": {},
     "output_type": "execute_result"
    }
   ],
   "source": [
    "train_df['Rooms'].value_counts()"
   ]
  },
  {
   "cell_type": "code",
   "execution_count": 63,
   "metadata": {},
   "outputs": [
    {
     "data": {
      "image/png": "[encoded data removed]",
      "text/plain": [
       "<Figure size 432x288 with 1 Axes>"
      ]
     },
     "metadata": {},
     "output_type": "display_data"
    }
   ],
   "source": [
    "plt.scatter(train_df['Rooms'], train_df['Price']);"
   ]
  },
  {
   "cell_type": "code",
   "execution_count": 64,
   "metadata": {},
   "outputs": [
    {
     "data": {
      "image/png": "[encoded data removed]",
      "text/plain": [
       "<Figure size 720x360 with 1 Axes>"
      ]
     },
     "metadata": {},
     "output_type": "display_data"
    }
   ],
   "source": [
    "sns.catplot('Rooms', 'Price', kind=\"box\", data=train_df, aspect=2/1);"
   ]
  },
  {
   "cell_type": "code",
   "execution_count": 65,
   "metadata": {},
   "outputs": [
    {
     "data": {
      "text/plain": [
       "2.00     2030\n",
       "1.00     1769\n",
       "3.00     1099\n",
       "4.00       90\n",
       "5.00        7\n",
       "0.00        2\n",
       "6.00        2\n",
       "17.00       1\n",
       "Name: Rooms, dtype: int64"
      ]
     },
     "execution_count": 65,
     "metadata": {},
     "output_type": "execute_result"
    }
   ],
   "source": [
    "test_df['Rooms'].value_counts()"
   ]
  },
  {
   "cell_type": "code",
   "execution_count": 66,
   "metadata": {},
   "outputs": [
    {
     "data": {
      "image/png": "[encoded data removed]",
      "text/plain": [
       "<Figure size 432x288 with 1 Axes>"
      ]
     },
     "metadata": {},
     "output_type": "display_data"
    }
   ],
   "source": [
    "plt.scatter(train_df['Rooms'], train_df['Square']);"
   ]
  },
  {
   "cell_type": "code",
   "execution_count": 66,
   "metadata": {},
   "outputs": [
    {
     "data": {
      "image/png": "[encoded data removed]",
      "text/plain": [
       "<Figure size 432x288 with 1 Axes>"
      ]
     },
     "metadata": {},
     "output_type": "display_data"
    }
   ],
   "source": [
    "plt.scatter(test_df['Rooms'], test_df['Square']);"
   ]
  },
  {
   "cell_type": "code",
   "execution_count": 67,
   "metadata": {
    "scrolled": true
   },
   "outputs": [
    {
     "data": {
      "text/plain": [
       "2.0"
      ]
     },
     "execution_count": 67,
     "metadata": {},
     "output_type": "execute_result"
    }
   ],
   "source": [
    "train_df['Rooms'].mode()[0]"
   ]
  },
  {
   "cell_type": "code",
   "execution_count": null,
   "metadata": {},
   "outputs": [],
   "source": [
    "Замена выпадающих и нулевых значений на моду выглядит оптимальной по графику catplot"
   ]
  },
  {
   "cell_type": "code",
   "execution_count": 68,
   "metadata": {},
   "outputs": [],
   "source": [
    "train_df.loc[(train_df['Rooms'] > 5)|(train_df['Rooms'] == 0), 'Rooms'] = train_df['Rooms'].mode()[0]\n",
    "test_df.loc[(test_df['Rooms'] > 5)|(test_df['Rooms'] == 0), 'Rooms'] = train_df['Rooms'].mode()[0]"
   ]
  },
  {
   "cell_type": "markdown",
   "metadata": {},
   "source": [
    "#### HouseFloor, Floor"
   ]
  },
  {
   "cell_type": "code",
   "execution_count": null,
   "metadata": {},
   "outputs": [],
   "source": [
    "Для случаев этажности дома ниже этажа квартиры замена этажности дома на этаж квартиры"
   ]
  },
  {
   "cell_type": "code",
   "execution_count": 74,
   "metadata": {},
   "outputs": [
    {
     "data": {
      "text/html": [
       "<div>\n",
       "<style scoped>\n",
       "    .dataframe tbody tr th:only-of-type {\n",
       "        vertical-align: middle;\n",
       "    }\n",
       "\n",
       "    .dataframe tbody tr th {\n",
       "        vertical-align: top;\n",
       "    }\n",
       "\n",
       "    .dataframe thead th {\n",
       "        text-align: right;\n",
       "    }\n",
       "</style>\n",
       "<table border=\"1\" class=\"dataframe\">\n",
       "  <thead>\n",
       "    <tr style=\"text-align: right;\">\n",
       "      <th></th>\n",
       "      <th>DistrictId</th>\n",
       "      <th>Rooms</th>\n",
       "      <th>Square</th>\n",
       "      <th>LifeSquare</th>\n",
       "      <th>KitchenSquare</th>\n",
       "      <th>Floor</th>\n",
       "      <th>HouseFloor</th>\n",
       "      <th>HouseYear</th>\n",
       "      <th>Ecology_1</th>\n",
       "      <th>Ecology_2</th>\n",
       "      <th>Ecology_3</th>\n",
       "      <th>Social_1</th>\n",
       "      <th>Social_2</th>\n",
       "      <th>Social_3</th>\n",
       "      <th>Healthcare_1</th>\n",
       "      <th>Helthcare_2</th>\n",
       "      <th>Shops_1</th>\n",
       "      <th>Shops_2</th>\n",
       "      <th>Price</th>\n",
       "    </tr>\n",
       "    <tr>\n",
       "      <th>Id</th>\n",
       "      <th></th>\n",
       "      <th></th>\n",
       "      <th></th>\n",
       "      <th></th>\n",
       "      <th></th>\n",
       "      <th></th>\n",
       "      <th></th>\n",
       "      <th></th>\n",
       "      <th></th>\n",
       "      <th></th>\n",
       "      <th></th>\n",
       "      <th></th>\n",
       "      <th></th>\n",
       "      <th></th>\n",
       "      <th></th>\n",
       "      <th></th>\n",
       "      <th></th>\n",
       "      <th></th>\n",
       "      <th></th>\n",
       "    </tr>\n",
       "  </thead>\n",
       "  <tbody>\n",
       "    <tr>\n",
       "      <th>11993</th>\n",
       "      <td>74</td>\n",
       "      <td>2.00</td>\n",
       "      <td>80.31</td>\n",
       "      <td>80.31</td>\n",
       "      <td>0.00</td>\n",
       "      <td>14</td>\n",
       "      <td>0.00</td>\n",
       "      <td>1977</td>\n",
       "      <td>0.08</td>\n",
       "      <td>1</td>\n",
       "      <td>1</td>\n",
       "      <td>6</td>\n",
       "      <td>1437</td>\n",
       "      <td>3</td>\n",
       "      <td>540.00</td>\n",
       "      <td>0</td>\n",
       "      <td>2</td>\n",
       "      <td>1</td>\n",
       "      <td>221,244.16</td>\n",
       "    </tr>\n",
       "    <tr>\n",
       "      <th>10953</th>\n",
       "      <td>27</td>\n",
       "      <td>1.00</td>\n",
       "      <td>53.77</td>\n",
       "      <td>52.41</td>\n",
       "      <td>1.00</td>\n",
       "      <td>5</td>\n",
       "      <td>4.00</td>\n",
       "      <td>1977</td>\n",
       "      <td>0.07</td>\n",
       "      <td>1</td>\n",
       "      <td>1</td>\n",
       "      <td>2</td>\n",
       "      <td>629</td>\n",
       "      <td>1</td>\n",
       "      <td>540.00</td>\n",
       "      <td>0</td>\n",
       "      <td>0</td>\n",
       "      <td>0</td>\n",
       "      <td>140,647.57</td>\n",
       "    </tr>\n",
       "    <tr>\n",
       "      <th>2119</th>\n",
       "      <td>27</td>\n",
       "      <td>2.00</td>\n",
       "      <td>49.36</td>\n",
       "      <td>31.99</td>\n",
       "      <td>5.00</td>\n",
       "      <td>6</td>\n",
       "      <td>5.00</td>\n",
       "      <td>1983</td>\n",
       "      <td>0.05</td>\n",
       "      <td>1</td>\n",
       "      <td>1</td>\n",
       "      <td>5</td>\n",
       "      <td>1227</td>\n",
       "      <td>0</td>\n",
       "      <td>540.00</td>\n",
       "      <td>0</td>\n",
       "      <td>0</td>\n",
       "      <td>1</td>\n",
       "      <td>117,000.38</td>\n",
       "    </tr>\n",
       "    <tr>\n",
       "      <th>11935</th>\n",
       "      <td>27</td>\n",
       "      <td>2.00</td>\n",
       "      <td>64.71</td>\n",
       "      <td>63.71</td>\n",
       "      <td>1.00</td>\n",
       "      <td>15</td>\n",
       "      <td>1.00</td>\n",
       "      <td>1977</td>\n",
       "      <td>0.21</td>\n",
       "      <td>1</td>\n",
       "      <td>1</td>\n",
       "      <td>9</td>\n",
       "      <td>1892</td>\n",
       "      <td>0</td>\n",
       "      <td>540.00</td>\n",
       "      <td>0</td>\n",
       "      <td>1</td>\n",
       "      <td>1</td>\n",
       "      <td>127,200.03</td>\n",
       "    </tr>\n",
       "    <tr>\n",
       "      <th>6641</th>\n",
       "      <td>54</td>\n",
       "      <td>3.00</td>\n",
       "      <td>118.91</td>\n",
       "      <td>118.91</td>\n",
       "      <td>0.00</td>\n",
       "      <td>2</td>\n",
       "      <td>0.00</td>\n",
       "      <td>1977</td>\n",
       "      <td>0.01</td>\n",
       "      <td>1</td>\n",
       "      <td>1</td>\n",
       "      <td>30</td>\n",
       "      <td>5285</td>\n",
       "      <td>0</td>\n",
       "      <td>645.00</td>\n",
       "      <td>6</td>\n",
       "      <td>6</td>\n",
       "      <td>1</td>\n",
       "      <td>571,069.05</td>\n",
       "    </tr>\n",
       "    <tr>\n",
       "      <th>...</th>\n",
       "      <td>...</td>\n",
       "      <td>...</td>\n",
       "      <td>...</td>\n",
       "      <td>...</td>\n",
       "      <td>...</td>\n",
       "      <td>...</td>\n",
       "      <td>...</td>\n",
       "      <td>...</td>\n",
       "      <td>...</td>\n",
       "      <td>...</td>\n",
       "      <td>...</td>\n",
       "      <td>...</td>\n",
       "      <td>...</td>\n",
       "      <td>...</td>\n",
       "      <td>...</td>\n",
       "      <td>...</td>\n",
       "      <td>...</td>\n",
       "      <td>...</td>\n",
       "      <td>...</td>\n",
       "    </tr>\n",
       "    <tr>\n",
       "      <th>2237</th>\n",
       "      <td>52</td>\n",
       "      <td>3.00</td>\n",
       "      <td>64.07</td>\n",
       "      <td>47.63</td>\n",
       "      <td>6.00</td>\n",
       "      <td>11</td>\n",
       "      <td>9.00</td>\n",
       "      <td>1983</td>\n",
       "      <td>0.37</td>\n",
       "      <td>1</td>\n",
       "      <td>1</td>\n",
       "      <td>34</td>\n",
       "      <td>7065</td>\n",
       "      <td>1</td>\n",
       "      <td>750.00</td>\n",
       "      <td>2</td>\n",
       "      <td>5</td>\n",
       "      <td>1</td>\n",
       "      <td>226,434.88</td>\n",
       "    </tr>\n",
       "    <tr>\n",
       "      <th>16159</th>\n",
       "      <td>27</td>\n",
       "      <td>1.00</td>\n",
       "      <td>38.97</td>\n",
       "      <td>37.97</td>\n",
       "      <td>1.00</td>\n",
       "      <td>10</td>\n",
       "      <td>1.00</td>\n",
       "      <td>1977</td>\n",
       "      <td>0.21</td>\n",
       "      <td>1</td>\n",
       "      <td>1</td>\n",
       "      <td>9</td>\n",
       "      <td>1892</td>\n",
       "      <td>0</td>\n",
       "      <td>540.00</td>\n",
       "      <td>0</td>\n",
       "      <td>1</td>\n",
       "      <td>1</td>\n",
       "      <td>95,529.57</td>\n",
       "    </tr>\n",
       "    <tr>\n",
       "      <th>4145</th>\n",
       "      <td>96</td>\n",
       "      <td>3.00</td>\n",
       "      <td>90.06</td>\n",
       "      <td>47.86</td>\n",
       "      <td>11.00</td>\n",
       "      <td>26</td>\n",
       "      <td>24.00</td>\n",
       "      <td>2005</td>\n",
       "      <td>0.04</td>\n",
       "      <td>1</td>\n",
       "      <td>1</td>\n",
       "      <td>53</td>\n",
       "      <td>14892</td>\n",
       "      <td>4</td>\n",
       "      <td>620.00</td>\n",
       "      <td>1</td>\n",
       "      <td>4</td>\n",
       "      <td>1</td>\n",
       "      <td>441,108.91</td>\n",
       "    </tr>\n",
       "    <tr>\n",
       "      <th>11553</th>\n",
       "      <td>3</td>\n",
       "      <td>3.00</td>\n",
       "      <td>101.62</td>\n",
       "      <td>51.63</td>\n",
       "      <td>12.00</td>\n",
       "      <td>18</td>\n",
       "      <td>17.00</td>\n",
       "      <td>2000</td>\n",
       "      <td>0.27</td>\n",
       "      <td>1</td>\n",
       "      <td>1</td>\n",
       "      <td>37</td>\n",
       "      <td>5288</td>\n",
       "      <td>0</td>\n",
       "      <td>1,937.00</td>\n",
       "      <td>3</td>\n",
       "      <td>2</td>\n",
       "      <td>1</td>\n",
       "      <td>212,883.50</td>\n",
       "    </tr>\n",
       "    <tr>\n",
       "      <th>77</th>\n",
       "      <td>32</td>\n",
       "      <td>2.00</td>\n",
       "      <td>50.40</td>\n",
       "      <td>30.48</td>\n",
       "      <td>5.00</td>\n",
       "      <td>6</td>\n",
       "      <td>5.00</td>\n",
       "      <td>1968</td>\n",
       "      <td>0.14</td>\n",
       "      <td>1</td>\n",
       "      <td>1</td>\n",
       "      <td>46</td>\n",
       "      <td>7960</td>\n",
       "      <td>6</td>\n",
       "      <td>350.00</td>\n",
       "      <td>3</td>\n",
       "      <td>11</td>\n",
       "      <td>1</td>\n",
       "      <td>196,684.32</td>\n",
       "    </tr>\n",
       "  </tbody>\n",
       "</table>\n",
       "<p>1825 rows × 19 columns</p>\n",
       "</div>"
      ],
      "text/plain": [
       "      DistrictId  Rooms  Square  LifeSquare  KitchenSquare  Floor  HouseFloor  \\\n",
       "Id                                                                              \n",
       "11993         74   2.00   80.31       80.31           0.00     14        0.00   \n",
       "10953         27   1.00   53.77       52.41           1.00      5        4.00   \n",
       "2119          27   2.00   49.36       31.99           5.00      6        5.00   \n",
       "11935         27   2.00   64.71       63.71           1.00     15        1.00   \n",
       "6641          54   3.00  118.91      118.91           0.00      2        0.00   \n",
       "...          ...    ...     ...         ...            ...    ...         ...   \n",
       "2237          52   3.00   64.07       47.63           6.00     11        9.00   \n",
       "16159         27   1.00   38.97       37.97           1.00     10        1.00   \n",
       "4145          96   3.00   90.06       47.86          11.00     26       24.00   \n",
       "11553          3   3.00  101.62       51.63          12.00     18       17.00   \n",
       "77            32   2.00   50.40       30.48           5.00      6        5.00   \n",
       "\n",
       "       HouseYear  Ecology_1  Ecology_2  Ecology_3  Social_1  Social_2  \\\n",
       "Id                                                                      \n",
       "11993       1977       0.08          1          1         6      1437   \n",
       "10953       1977       0.07          1          1         2       629   \n",
       "2119        1983       0.05          1          1         5      1227   \n",
       "11935       1977       0.21          1          1         9      1892   \n",
       "6641        1977       0.01          1          1        30      5285   \n",
       "...          ...        ...        ...        ...       ...       ...   \n",
       "2237        1983       0.37          1          1        34      7065   \n",
       "16159       1977       0.21          1          1         9      1892   \n",
       "4145        2005       0.04          1          1        53     14892   \n",
       "11553       2000       0.27          1          1        37      5288   \n",
       "77          1968       0.14          1          1        46      7960   \n",
       "\n",
       "       Social_3  Healthcare_1  Helthcare_2  Shops_1  Shops_2      Price  \n",
       "Id                                                                       \n",
       "11993         3        540.00            0        2        1 221,244.16  \n",
       "10953         1        540.00            0        0        0 140,647.57  \n",
       "2119          0        540.00            0        0        1 117,000.38  \n",
       "11935         0        540.00            0        1        1 127,200.03  \n",
       "6641          0        645.00            6        6        1 571,069.05  \n",
       "...         ...           ...          ...      ...      ...        ...  \n",
       "2237          1        750.00            2        5        1 226,434.88  \n",
       "16159         0        540.00            0        1        1  95,529.57  \n",
       "4145          4        620.00            1        4        1 441,108.91  \n",
       "11553         0      1,937.00            3        2        1 212,883.50  \n",
       "77            6        350.00            3       11        1 196,684.32  \n",
       "\n",
       "[1825 rows x 19 columns]"
      ]
     },
     "execution_count": 74,
     "metadata": {},
     "output_type": "execute_result"
    }
   ],
   "source": [
    "train_df[train_df['HouseFloor'] < train_df['Floor']]"
   ]
  },
  {
   "cell_type": "code",
   "execution_count": 75,
   "metadata": {},
   "outputs": [
    {
     "data": {
      "text/html": [
       "<div>\n",
       "<style scoped>\n",
       "    .dataframe tbody tr th:only-of-type {\n",
       "        vertical-align: middle;\n",
       "    }\n",
       "\n",
       "    .dataframe tbody tr th {\n",
       "        vertical-align: top;\n",
       "    }\n",
       "\n",
       "    .dataframe thead th {\n",
       "        text-align: right;\n",
       "    }\n",
       "</style>\n",
       "<table border=\"1\" class=\"dataframe\">\n",
       "  <thead>\n",
       "    <tr style=\"text-align: right;\">\n",
       "      <th></th>\n",
       "      <th>DistrictId</th>\n",
       "      <th>Rooms</th>\n",
       "      <th>Square</th>\n",
       "      <th>LifeSquare</th>\n",
       "      <th>KitchenSquare</th>\n",
       "      <th>Floor</th>\n",
       "      <th>HouseFloor</th>\n",
       "      <th>HouseYear</th>\n",
       "      <th>Ecology_1</th>\n",
       "      <th>Ecology_2</th>\n",
       "      <th>Ecology_3</th>\n",
       "      <th>Social_1</th>\n",
       "      <th>Social_2</th>\n",
       "      <th>Social_3</th>\n",
       "      <th>Healthcare_1</th>\n",
       "      <th>Helthcare_2</th>\n",
       "      <th>Shops_1</th>\n",
       "      <th>Shops_2</th>\n",
       "    </tr>\n",
       "    <tr>\n",
       "      <th>Id</th>\n",
       "      <th></th>\n",
       "      <th></th>\n",
       "      <th></th>\n",
       "      <th></th>\n",
       "      <th></th>\n",
       "      <th></th>\n",
       "      <th></th>\n",
       "      <th></th>\n",
       "      <th></th>\n",
       "      <th></th>\n",
       "      <th></th>\n",
       "      <th></th>\n",
       "      <th></th>\n",
       "      <th></th>\n",
       "      <th></th>\n",
       "      <th></th>\n",
       "      <th></th>\n",
       "      <th></th>\n",
       "    </tr>\n",
       "  </thead>\n",
       "  <tbody>\n",
       "    <tr>\n",
       "      <th>15856</th>\n",
       "      <td>74</td>\n",
       "      <td>2.00</td>\n",
       "      <td>69.26</td>\n",
       "      <td>68.26</td>\n",
       "      <td>1.00</td>\n",
       "      <td>6</td>\n",
       "      <td>1.00</td>\n",
       "      <td>1977</td>\n",
       "      <td>0.08</td>\n",
       "      <td>1</td>\n",
       "      <td>1</td>\n",
       "      <td>6</td>\n",
       "      <td>1437</td>\n",
       "      <td>3</td>\n",
       "      <td>540.00</td>\n",
       "      <td>0</td>\n",
       "      <td>2</td>\n",
       "      <td>1</td>\n",
       "    </tr>\n",
       "    <tr>\n",
       "      <th>15975</th>\n",
       "      <td>61</td>\n",
       "      <td>3.00</td>\n",
       "      <td>64.54</td>\n",
       "      <td>42.65</td>\n",
       "      <td>7.00</td>\n",
       "      <td>10</td>\n",
       "      <td>9.00</td>\n",
       "      <td>1981</td>\n",
       "      <td>0.30</td>\n",
       "      <td>1</td>\n",
       "      <td>1</td>\n",
       "      <td>52</td>\n",
       "      <td>10311</td>\n",
       "      <td>6</td>\n",
       "      <td>620.00</td>\n",
       "      <td>1</td>\n",
       "      <td>9</td>\n",
       "      <td>1</td>\n",
       "    </tr>\n",
       "    <tr>\n",
       "      <th>5214</th>\n",
       "      <td>27</td>\n",
       "      <td>1.00</td>\n",
       "      <td>37.56</td>\n",
       "      <td>36.56</td>\n",
       "      <td>1.00</td>\n",
       "      <td>5</td>\n",
       "      <td>1.00</td>\n",
       "      <td>1977</td>\n",
       "      <td>0.21</td>\n",
       "      <td>1</td>\n",
       "      <td>1</td>\n",
       "      <td>9</td>\n",
       "      <td>1892</td>\n",
       "      <td>0</td>\n",
       "      <td>540.00</td>\n",
       "      <td>0</td>\n",
       "      <td>1</td>\n",
       "      <td>1</td>\n",
       "    </tr>\n",
       "    <tr>\n",
       "      <th>12694</th>\n",
       "      <td>27</td>\n",
       "      <td>3.00</td>\n",
       "      <td>83.67</td>\n",
       "      <td>46.36</td>\n",
       "      <td>0.00</td>\n",
       "      <td>8</td>\n",
       "      <td>0.00</td>\n",
       "      <td>2015</td>\n",
       "      <td>0.07</td>\n",
       "      <td>1</td>\n",
       "      <td>1</td>\n",
       "      <td>2</td>\n",
       "      <td>629</td>\n",
       "      <td>1</td>\n",
       "      <td>540.00</td>\n",
       "      <td>0</td>\n",
       "      <td>0</td>\n",
       "      <td>0</td>\n",
       "    </tr>\n",
       "    <tr>\n",
       "      <th>8968</th>\n",
       "      <td>27</td>\n",
       "      <td>2.00</td>\n",
       "      <td>69.85</td>\n",
       "      <td>69.85</td>\n",
       "      <td>0.00</td>\n",
       "      <td>3</td>\n",
       "      <td>0.00</td>\n",
       "      <td>1977</td>\n",
       "      <td>0.01</td>\n",
       "      <td>1</td>\n",
       "      <td>1</td>\n",
       "      <td>4</td>\n",
       "      <td>915</td>\n",
       "      <td>0</td>\n",
       "      <td>540.00</td>\n",
       "      <td>0</td>\n",
       "      <td>0</td>\n",
       "      <td>1</td>\n",
       "    </tr>\n",
       "    <tr>\n",
       "      <th>...</th>\n",
       "      <td>...</td>\n",
       "      <td>...</td>\n",
       "      <td>...</td>\n",
       "      <td>...</td>\n",
       "      <td>...</td>\n",
       "      <td>...</td>\n",
       "      <td>...</td>\n",
       "      <td>...</td>\n",
       "      <td>...</td>\n",
       "      <td>...</td>\n",
       "      <td>...</td>\n",
       "      <td>...</td>\n",
       "      <td>...</td>\n",
       "      <td>...</td>\n",
       "      <td>...</td>\n",
       "      <td>...</td>\n",
       "      <td>...</td>\n",
       "      <td>...</td>\n",
       "    </tr>\n",
       "    <tr>\n",
       "      <th>4723</th>\n",
       "      <td>95</td>\n",
       "      <td>1.00</td>\n",
       "      <td>45.54</td>\n",
       "      <td>45.54</td>\n",
       "      <td>0.00</td>\n",
       "      <td>6</td>\n",
       "      <td>0.00</td>\n",
       "      <td>1977</td>\n",
       "      <td>0.00</td>\n",
       "      <td>1</td>\n",
       "      <td>1</td>\n",
       "      <td>14</td>\n",
       "      <td>3369</td>\n",
       "      <td>24</td>\n",
       "      <td>4,129.00</td>\n",
       "      <td>0</td>\n",
       "      <td>3</td>\n",
       "      <td>1</td>\n",
       "    </tr>\n",
       "    <tr>\n",
       "      <th>2591</th>\n",
       "      <td>39</td>\n",
       "      <td>2.00</td>\n",
       "      <td>44.20</td>\n",
       "      <td>30.19</td>\n",
       "      <td>6.00</td>\n",
       "      <td>10</td>\n",
       "      <td>9.00</td>\n",
       "      <td>1972</td>\n",
       "      <td>0.43</td>\n",
       "      <td>1</td>\n",
       "      <td>1</td>\n",
       "      <td>25</td>\n",
       "      <td>5011</td>\n",
       "      <td>8</td>\n",
       "      <td>730.00</td>\n",
       "      <td>0</td>\n",
       "      <td>2</td>\n",
       "      <td>1</td>\n",
       "    </tr>\n",
       "    <tr>\n",
       "      <th>14562</th>\n",
       "      <td>113</td>\n",
       "      <td>2.00</td>\n",
       "      <td>46.63</td>\n",
       "      <td>27.06</td>\n",
       "      <td>5.00</td>\n",
       "      <td>6</td>\n",
       "      <td>5.00</td>\n",
       "      <td>1969</td>\n",
       "      <td>0.31</td>\n",
       "      <td>1</td>\n",
       "      <td>0</td>\n",
       "      <td>30</td>\n",
       "      <td>5048</td>\n",
       "      <td>9</td>\n",
       "      <td>325.00</td>\n",
       "      <td>2</td>\n",
       "      <td>5</td>\n",
       "      <td>1</td>\n",
       "    </tr>\n",
       "    <tr>\n",
       "      <th>5783</th>\n",
       "      <td>12</td>\n",
       "      <td>3.00</td>\n",
       "      <td>77.84</td>\n",
       "      <td>48.28</td>\n",
       "      <td>9.00</td>\n",
       "      <td>23</td>\n",
       "      <td>22.00</td>\n",
       "      <td>1989</td>\n",
       "      <td>0.09</td>\n",
       "      <td>1</td>\n",
       "      <td>1</td>\n",
       "      <td>74</td>\n",
       "      <td>19083</td>\n",
       "      <td>2</td>\n",
       "      <td>1,575.00</td>\n",
       "      <td>5</td>\n",
       "      <td>15</td>\n",
       "      <td>1</td>\n",
       "    </tr>\n",
       "    <tr>\n",
       "      <th>4780</th>\n",
       "      <td>62</td>\n",
       "      <td>2.00</td>\n",
       "      <td>81.31</td>\n",
       "      <td>81.31</td>\n",
       "      <td>0.00</td>\n",
       "      <td>4</td>\n",
       "      <td>0.00</td>\n",
       "      <td>1977</td>\n",
       "      <td>0.07</td>\n",
       "      <td>1</td>\n",
       "      <td>1</td>\n",
       "      <td>2</td>\n",
       "      <td>629</td>\n",
       "      <td>1</td>\n",
       "      <td>540.00</td>\n",
       "      <td>0</td>\n",
       "      <td>0</td>\n",
       "      <td>0</td>\n",
       "    </tr>\n",
       "  </tbody>\n",
       "</table>\n",
       "<p>884 rows × 18 columns</p>\n",
       "</div>"
      ],
      "text/plain": [
       "      DistrictId  Rooms  Square  LifeSquare  KitchenSquare  Floor  HouseFloor  \\\n",
       "Id                                                                              \n",
       "15856         74   2.00   69.26       68.26           1.00      6        1.00   \n",
       "15975         61   3.00   64.54       42.65           7.00     10        9.00   \n",
       "5214          27   1.00   37.56       36.56           1.00      5        1.00   \n",
       "12694         27   3.00   83.67       46.36           0.00      8        0.00   \n",
       "8968          27   2.00   69.85       69.85           0.00      3        0.00   \n",
       "...          ...    ...     ...         ...            ...    ...         ...   \n",
       "4723          95   1.00   45.54       45.54           0.00      6        0.00   \n",
       "2591          39   2.00   44.20       30.19           6.00     10        9.00   \n",
       "14562        113   2.00   46.63       27.06           5.00      6        5.00   \n",
       "5783          12   3.00   77.84       48.28           9.00     23       22.00   \n",
       "4780          62   2.00   81.31       81.31           0.00      4        0.00   \n",
       "\n",
       "       HouseYear  Ecology_1  Ecology_2  Ecology_3  Social_1  Social_2  \\\n",
       "Id                                                                      \n",
       "15856       1977       0.08          1          1         6      1437   \n",
       "15975       1981       0.30          1          1        52     10311   \n",
       "5214        1977       0.21          1          1         9      1892   \n",
       "12694       2015       0.07          1          1         2       629   \n",
       "8968        1977       0.01          1          1         4       915   \n",
       "...          ...        ...        ...        ...       ...       ...   \n",
       "4723        1977       0.00          1          1        14      3369   \n",
       "2591        1972       0.43          1          1        25      5011   \n",
       "14562       1969       0.31          1          0        30      5048   \n",
       "5783        1989       0.09          1          1        74     19083   \n",
       "4780        1977       0.07          1          1         2       629   \n",
       "\n",
       "       Social_3  Healthcare_1  Helthcare_2  Shops_1  Shops_2  \n",
       "Id                                                            \n",
       "15856         3        540.00            0        2        1  \n",
       "15975         6        620.00            1        9        1  \n",
       "5214          0        540.00            0        1        1  \n",
       "12694         1        540.00            0        0        0  \n",
       "8968          0        540.00            0        0        1  \n",
       "...         ...           ...          ...      ...      ...  \n",
       "4723         24      4,129.00            0        3        1  \n",
       "2591          8        730.00            0        2        1  \n",
       "14562         9        325.00            2        5        1  \n",
       "5783          2      1,575.00            5       15        1  \n",
       "4780          1        540.00            0        0        0  \n",
       "\n",
       "[884 rows x 18 columns]"
      ]
     },
     "execution_count": 75,
     "metadata": {},
     "output_type": "execute_result"
    }
   ],
   "source": [
    "test_df[test_df['HouseFloor'] < test_df['Floor']]"
   ]
  },
  {
   "cell_type": "code",
   "execution_count": 77,
   "metadata": {},
   "outputs": [],
   "source": [
    "train_df.loc[train_df['HouseFloor'] < train_df['Floor'], 'HouseFloor'] = train_df['Floor']"
   ]
  },
  {
   "cell_type": "code",
   "execution_count": 78,
   "metadata": {},
   "outputs": [
    {
     "data": {
      "image/png": "[encoded data removed]",
      "text/plain": [
       "<Figure size 432x432 with 3 Axes>"
      ]
     },
     "metadata": {},
     "output_type": "display_data"
    }
   ],
   "source": [
    "sns.jointplot(train_df['Floor'], train_df['HouseFloor'], kind='scatter', height=6, color='g');"
   ]
  },
  {
   "cell_type": "code",
   "execution_count": 79,
   "metadata": {},
   "outputs": [],
   "source": [
    "test_df.loc[test_df['HouseFloor'] < test_df['Floor'], 'HouseFloor'] = test_df['Floor']"
   ]
  },
  {
   "cell_type": "code",
   "execution_count": 80,
   "metadata": {},
   "outputs": [
    {
     "data": {
      "image/png": "[encoded data removed]",
      "text/plain": [
       "<Figure size 432x432 with 3 Axes>"
      ]
     },
     "metadata": {},
     "output_type": "display_data"
    }
   ],
   "source": [
    "sns.jointplot(test_df['Floor'], test_df['HouseFloor'], kind='scatter', height=6, color='g');"
   ]
  },
  {
   "cell_type": "markdown",
   "metadata": {},
   "source": [
    "#### HouseYear"
   ]
  },
  {
   "cell_type": "code",
   "execution_count": 81,
   "metadata": {},
   "outputs": [
    {
     "data": {
      "text/plain": [
       "Id\n",
       "10814    20052011\n",
       "11607        4968\n",
       "6731         2020\n",
       "8892         2020\n",
       "14318        2020\n",
       "           ...   \n",
       "7920         1916\n",
       "6751         1914\n",
       "2085         1912\n",
       "14556        1912\n",
       "13288        1910\n",
       "Name: HouseYear, Length: 10000, dtype: int64"
      ]
     },
     "execution_count": 81,
     "metadata": {},
     "output_type": "execute_result"
    }
   ],
   "source": [
    "train_df['HouseYear'].sort_values(ascending=False)"
   ]
  },
  {
   "cell_type": "code",
   "execution_count": 83,
   "metadata": {},
   "outputs": [
    {
     "data": {
      "text/plain": [
       "Id\n",
       "2359     2020\n",
       "8311     2020\n",
       "8560     2020\n",
       "9398     2020\n",
       "4696     2020\n",
       "         ... \n",
       "16217    1912\n",
       "3726     1911\n",
       "9076     1910\n",
       "5480     1909\n",
       "12316    1908\n",
       "Name: HouseYear, Length: 5000, dtype: int64"
      ]
     },
     "execution_count": 83,
     "metadata": {},
     "output_type": "execute_result"
    }
   ],
   "source": [
    "test_df['HouseYear'].sort_values(ascending=False)"
   ]
  },
  {
   "cell_type": "code",
   "execution_count": 84,
   "metadata": {},
   "outputs": [],
   "source": [
    "train_df.loc[train_df['HouseYear'] > 2020, 'HouseYear'] = 2020"
   ]
  },
  {
   "cell_type": "markdown",
   "metadata": {},
   "source": [
    "## Построение новых признаков"
   ]
  },
  {
   "cell_type": "markdown",
   "metadata": {},
   "source": [
    "### PriceOneM2ByDistrict\n",
    "цена квадратного метра по районам"
   ]
  },
  {
   "cell_type": "code",
   "execution_count": 85,
   "metadata": {},
   "outputs": [],
   "source": [
    "train_df['PriceOneM2'] = train_df['Price'] / train_df['Square']"
   ]
  },
  {
   "cell_type": "code",
   "execution_count": 86,
   "metadata": {},
   "outputs": [
    {
     "data": {
      "text/plain": [
       "count    10,000.00\n",
       "mean      3,988.38\n",
       "std       3,755.44\n",
       "min         208.29\n",
       "25%       2,918.53\n",
       "50%       3,910.05\n",
       "75%       4,692.38\n",
       "max     230,463.54\n",
       "Name: PriceOneM2, dtype: float64"
      ]
     },
     "execution_count": 86,
     "metadata": {},
     "output_type": "execute_result"
    }
   ],
   "source": [
    "train_df['PriceOneM2'].describe()"
   ]
  },
  {
   "cell_type": "code",
   "execution_count": 87,
   "metadata": {},
   "outputs": [
    {
     "data": {
      "text/html": [
       "<div>\n",
       "<style scoped>\n",
       "    .dataframe tbody tr th:only-of-type {\n",
       "        vertical-align: middle;\n",
       "    }\n",
       "\n",
       "    .dataframe tbody tr th {\n",
       "        vertical-align: top;\n",
       "    }\n",
       "\n",
       "    .dataframe thead th {\n",
       "        text-align: right;\n",
       "    }\n",
       "</style>\n",
       "<table border=\"1\" class=\"dataframe\">\n",
       "  <thead>\n",
       "    <tr style=\"text-align: right;\">\n",
       "      <th></th>\n",
       "      <th>DistrictId</th>\n",
       "      <th>PriceOneM2ByDistrict</th>\n",
       "    </tr>\n",
       "  </thead>\n",
       "  <tbody>\n",
       "    <tr>\n",
       "      <th>0</th>\n",
       "      <td>0</td>\n",
       "      <td>3,935.91</td>\n",
       "    </tr>\n",
       "    <tr>\n",
       "      <th>1</th>\n",
       "      <td>1</td>\n",
       "      <td>3,251.65</td>\n",
       "    </tr>\n",
       "    <tr>\n",
       "      <th>2</th>\n",
       "      <td>10</td>\n",
       "      <td>4,458.89</td>\n",
       "    </tr>\n",
       "    <tr>\n",
       "      <th>3</th>\n",
       "      <td>100</td>\n",
       "      <td>4,933.39</td>\n",
       "    </tr>\n",
       "    <tr>\n",
       "      <th>4</th>\n",
       "      <td>101</td>\n",
       "      <td>4,188.41</td>\n",
       "    </tr>\n",
       "    <tr>\n",
       "      <th>...</th>\n",
       "      <td>...</td>\n",
       "      <td>...</td>\n",
       "    </tr>\n",
       "    <tr>\n",
       "      <th>200</th>\n",
       "      <td>95</td>\n",
       "      <td>5,496.39</td>\n",
       "    </tr>\n",
       "    <tr>\n",
       "      <th>201</th>\n",
       "      <td>96</td>\n",
       "      <td>4,025.34</td>\n",
       "    </tr>\n",
       "    <tr>\n",
       "      <th>202</th>\n",
       "      <td>97</td>\n",
       "      <td>4,942.57</td>\n",
       "    </tr>\n",
       "    <tr>\n",
       "      <th>203</th>\n",
       "      <td>98</td>\n",
       "      <td>4,444.98</td>\n",
       "    </tr>\n",
       "    <tr>\n",
       "      <th>204</th>\n",
       "      <td>99</td>\n",
       "      <td>3,992.03</td>\n",
       "    </tr>\n",
       "  </tbody>\n",
       "</table>\n",
       "<p>205 rows × 2 columns</p>\n",
       "</div>"
      ],
      "text/plain": [
       "    DistrictId  PriceOneM2ByDistrict\n",
       "0            0              3,935.91\n",
       "1            1              3,251.65\n",
       "2           10              4,458.89\n",
       "3          100              4,933.39\n",
       "4          101              4,188.41\n",
       "..         ...                   ...\n",
       "200         95              5,496.39\n",
       "201         96              4,025.34\n",
       "202         97              4,942.57\n",
       "203         98              4,444.98\n",
       "204         99              3,992.03\n",
       "\n",
       "[205 rows x 2 columns]"
      ]
     },
     "execution_count": 87,
     "metadata": {},
     "output_type": "execute_result"
    }
   ],
   "source": [
    "price_by_district = train_df.groupby(['DistrictId'], as_index=False)\\\n",
    "                        .agg({'PriceOneM2':'median'})\\\n",
    "                        .rename(columns={'PriceOneM2':'PriceOneM2ByDistrict'})\n",
    "\n",
    "price_by_district"
   ]
  },
  {
   "cell_type": "code",
   "execution_count": 88,
   "metadata": {},
   "outputs": [],
   "source": [
    "train_df = train_df.merge(price_by_district, on=['DistrictId'], how='left').set_index(train_df.index)\n",
    "test_df = test_df.merge(price_by_district, on=['DistrictId'], how='left').set_index(test_df.index)"
   ]
  },
  {
   "cell_type": "code",
   "execution_count": 183,
   "metadata": {
    "scrolled": true
   },
   "outputs": [
    {
     "data": {
      "text/plain": [
       "Id\n",
       "2262    8,700.77\n",
       "6216    8,700.77\n",
       "5480    8,645.17\n",
       "7440    8,645.17\n",
       "2216    8,008.60\n",
       "          ...   \n",
       "9155         nan\n",
       "8845         nan\n",
       "15655        nan\n",
       "13382        nan\n",
       "14024        nan\n",
       "Name: PriceOneM2ByDistrict, Length: 5000, dtype: float64"
      ]
     },
     "execution_count": 183,
     "metadata": {},
     "output_type": "execute_result"
    }
   ],
   "source": [
    "test_df['PriceOneM2ByDistrict'].sort_values(ascending=False)"
   ]
  },
  {
   "cell_type": "markdown",
   "metadata": {},
   "source": [
    "Замена nan в PriceOneM2ByDistrict на медиану"
   ]
  },
  {
   "cell_type": "code",
   "execution_count": 185,
   "metadata": {},
   "outputs": [],
   "source": [
    "test_df.loc[test_df['PriceOneM2ByDistrict'].isna(), 'PriceOneM2ByDistrict'] = \\\n",
    "   train_df['PriceOneM2ByDistrict'].median()"
   ]
  },
  {
   "cell_type": "markdown",
   "metadata": {},
   "source": [
    "### RoomSquare\n",
    "площадь комнаты"
   ]
  },
  {
   "cell_type": "code",
   "execution_count": 91,
   "metadata": {},
   "outputs": [],
   "source": [
    "train_df['RoomSquare'] = train_df['Square'] / train_df['Rooms']\n",
    "test_df['RoomSquare'] = test_df['Square'] / test_df['Rooms']"
   ]
  },
  {
   "cell_type": "markdown",
   "metadata": {},
   "source": [
    "### PriceOneM2BySocial1\n",
    "Цена квадратного метра по категориям Social_1"
   ]
  },
  {
   "cell_type": "code",
   "execution_count": 92,
   "metadata": {
    "scrolled": true
   },
   "outputs": [
    {
     "data": {
      "text/html": [
       "<div>\n",
       "<style scoped>\n",
       "    .dataframe tbody tr th:only-of-type {\n",
       "        vertical-align: middle;\n",
       "    }\n",
       "\n",
       "    .dataframe tbody tr th {\n",
       "        vertical-align: top;\n",
       "    }\n",
       "\n",
       "    .dataframe thead th {\n",
       "        text-align: right;\n",
       "    }\n",
       "</style>\n",
       "<table border=\"1\" class=\"dataframe\">\n",
       "  <thead>\n",
       "    <tr style=\"text-align: right;\">\n",
       "      <th></th>\n",
       "      <th>Social_1</th>\n",
       "      <th>PriceOneMBySocial1</th>\n",
       "    </tr>\n",
       "  </thead>\n",
       "  <tbody>\n",
       "    <tr>\n",
       "      <th>0</th>\n",
       "      <td>0</td>\n",
       "      <td>2,089.43</td>\n",
       "    </tr>\n",
       "    <tr>\n",
       "      <th>1</th>\n",
       "      <td>1</td>\n",
       "      <td>3,170.96</td>\n",
       "    </tr>\n",
       "    <tr>\n",
       "      <th>2</th>\n",
       "      <td>2</td>\n",
       "      <td>2,740.82</td>\n",
       "    </tr>\n",
       "    <tr>\n",
       "      <th>3</th>\n",
       "      <td>3</td>\n",
       "      <td>2,385.80</td>\n",
       "    </tr>\n",
       "    <tr>\n",
       "      <th>4</th>\n",
       "      <td>4</td>\n",
       "      <td>2,648.65</td>\n",
       "    </tr>\n",
       "    <tr>\n",
       "      <th>...</th>\n",
       "      <td>...</td>\n",
       "      <td>...</td>\n",
       "    </tr>\n",
       "    <tr>\n",
       "      <th>46</th>\n",
       "      <td>50</td>\n",
       "      <td>5,002.39</td>\n",
       "    </tr>\n",
       "    <tr>\n",
       "      <th>47</th>\n",
       "      <td>52</td>\n",
       "      <td>4,531.66</td>\n",
       "    </tr>\n",
       "    <tr>\n",
       "      <th>48</th>\n",
       "      <td>53</td>\n",
       "      <td>4,110.27</td>\n",
       "    </tr>\n",
       "    <tr>\n",
       "      <th>49</th>\n",
       "      <td>66</td>\n",
       "      <td>4,087.62</td>\n",
       "    </tr>\n",
       "    <tr>\n",
       "      <th>50</th>\n",
       "      <td>74</td>\n",
       "      <td>4,233.66</td>\n",
       "    </tr>\n",
       "  </tbody>\n",
       "</table>\n",
       "<p>51 rows × 2 columns</p>\n",
       "</div>"
      ],
      "text/plain": [
       "    Social_1  PriceOneMBySocial1\n",
       "0          0            2,089.43\n",
       "1          1            3,170.96\n",
       "2          2            2,740.82\n",
       "3          3            2,385.80\n",
       "4          4            2,648.65\n",
       "..       ...                 ...\n",
       "46        50            5,002.39\n",
       "47        52            4,531.66\n",
       "48        53            4,110.27\n",
       "49        66            4,087.62\n",
       "50        74            4,233.66\n",
       "\n",
       "[51 rows x 2 columns]"
      ]
     },
     "execution_count": 92,
     "metadata": {},
     "output_type": "execute_result"
    }
   ],
   "source": [
    "price_by_social1 = train_df.groupby(['Social_1'], as_index=False)\\\n",
    "                        .agg({'PriceOneM2':'median'})\\\n",
    "                        .rename(columns={'PriceOneM2':'PriceOneMBySocial1'})\n",
    "\n",
    "price_by_social1"
   ]
  },
  {
   "cell_type": "code",
   "execution_count": 93,
   "metadata": {},
   "outputs": [],
   "source": [
    "train_df = train_df.merge(price_by_social1, on=['Social_1'], how='left').set_index(train_df.index)\n",
    "test_df = test_df.merge(price_by_social1, on=['Social_1'], how='left').set_index(test_df.index)"
   ]
  },
  {
   "cell_type": "code",
   "execution_count": 94,
   "metadata": {
    "scrolled": false
   },
   "outputs": [
    {
     "data": {
      "text/html": [
       "<div>\n",
       "<style scoped>\n",
       "    .dataframe tbody tr th:only-of-type {\n",
       "        vertical-align: middle;\n",
       "    }\n",
       "\n",
       "    .dataframe tbody tr th {\n",
       "        vertical-align: top;\n",
       "    }\n",
       "\n",
       "    .dataframe thead th {\n",
       "        text-align: right;\n",
       "    }\n",
       "</style>\n",
       "<table border=\"1\" class=\"dataframe\">\n",
       "  <thead>\n",
       "    <tr style=\"text-align: right;\">\n",
       "      <th></th>\n",
       "      <th>DistrictId</th>\n",
       "      <th>Rooms</th>\n",
       "      <th>Square</th>\n",
       "      <th>LifeSquare</th>\n",
       "      <th>KitchenSquare</th>\n",
       "      <th>Floor</th>\n",
       "      <th>HouseFloor</th>\n",
       "      <th>HouseYear</th>\n",
       "      <th>Ecology_1</th>\n",
       "      <th>Ecology_2</th>\n",
       "      <th>...</th>\n",
       "      <th>Social_3</th>\n",
       "      <th>Healthcare_1</th>\n",
       "      <th>Helthcare_2</th>\n",
       "      <th>Shops_1</th>\n",
       "      <th>Shops_2</th>\n",
       "      <th>Price</th>\n",
       "      <th>PriceOneM2</th>\n",
       "      <th>PriceOneM2ByDistrict</th>\n",
       "      <th>RoomSquare</th>\n",
       "      <th>PriceOneMBySocial1</th>\n",
       "    </tr>\n",
       "    <tr>\n",
       "      <th>Id</th>\n",
       "      <th></th>\n",
       "      <th></th>\n",
       "      <th></th>\n",
       "      <th></th>\n",
       "      <th></th>\n",
       "      <th></th>\n",
       "      <th></th>\n",
       "      <th></th>\n",
       "      <th></th>\n",
       "      <th></th>\n",
       "      <th></th>\n",
       "      <th></th>\n",
       "      <th></th>\n",
       "      <th></th>\n",
       "      <th></th>\n",
       "      <th></th>\n",
       "      <th></th>\n",
       "      <th></th>\n",
       "      <th></th>\n",
       "      <th></th>\n",
       "      <th></th>\n",
       "    </tr>\n",
       "  </thead>\n",
       "  <tbody>\n",
       "    <tr>\n",
       "      <th>14038</th>\n",
       "      <td>35</td>\n",
       "      <td>2.00</td>\n",
       "      <td>47.98</td>\n",
       "      <td>29.44</td>\n",
       "      <td>6.00</td>\n",
       "      <td>7</td>\n",
       "      <td>9.00</td>\n",
       "      <td>1969</td>\n",
       "      <td>0.09</td>\n",
       "      <td>1</td>\n",
       "      <td>...</td>\n",
       "      <td>5</td>\n",
       "      <td>540.00</td>\n",
       "      <td>0</td>\n",
       "      <td>11</td>\n",
       "      <td>1</td>\n",
       "      <td>184,966.93</td>\n",
       "      <td>3,854.96</td>\n",
       "      <td>4,358.27</td>\n",
       "      <td>23.99</td>\n",
       "      <td>4,455.06</td>\n",
       "    </tr>\n",
       "    <tr>\n",
       "      <th>15053</th>\n",
       "      <td>41</td>\n",
       "      <td>3.00</td>\n",
       "      <td>65.68</td>\n",
       "      <td>40.05</td>\n",
       "      <td>8.00</td>\n",
       "      <td>7</td>\n",
       "      <td>9.00</td>\n",
       "      <td>1978</td>\n",
       "      <td>0.00</td>\n",
       "      <td>1</td>\n",
       "      <td>...</td>\n",
       "      <td>1</td>\n",
       "      <td>240.00</td>\n",
       "      <td>1</td>\n",
       "      <td>16</td>\n",
       "      <td>1</td>\n",
       "      <td>300,009.45</td>\n",
       "      <td>4,567.49</td>\n",
       "      <td>4,437.30</td>\n",
       "      <td>21.89</td>\n",
       "      <td>4,807.59</td>\n",
       "    </tr>\n",
       "    <tr>\n",
       "      <th>4765</th>\n",
       "      <td>53</td>\n",
       "      <td>2.00</td>\n",
       "      <td>44.95</td>\n",
       "      <td>29.20</td>\n",
       "      <td>0.00</td>\n",
       "      <td>8</td>\n",
       "      <td>12.00</td>\n",
       "      <td>1968</td>\n",
       "      <td>0.05</td>\n",
       "      <td>1</td>\n",
       "      <td>...</td>\n",
       "      <td>0</td>\n",
       "      <td>229.00</td>\n",
       "      <td>1</td>\n",
       "      <td>3</td>\n",
       "      <td>1</td>\n",
       "      <td>220,925.91</td>\n",
       "      <td>4,915.15</td>\n",
       "      <td>4,845.92</td>\n",
       "      <td>22.47</td>\n",
       "      <td>4,191.95</td>\n",
       "    </tr>\n",
       "    <tr>\n",
       "      <th>5809</th>\n",
       "      <td>58</td>\n",
       "      <td>2.00</td>\n",
       "      <td>53.35</td>\n",
       "      <td>52.73</td>\n",
       "      <td>9.00</td>\n",
       "      <td>8</td>\n",
       "      <td>17.00</td>\n",
       "      <td>1977</td>\n",
       "      <td>0.44</td>\n",
       "      <td>1</td>\n",
       "      <td>...</td>\n",
       "      <td>3</td>\n",
       "      <td>1,084.00</td>\n",
       "      <td>0</td>\n",
       "      <td>5</td>\n",
       "      <td>1</td>\n",
       "      <td>175,616.23</td>\n",
       "      <td>3,291.59</td>\n",
       "      <td>2,949.98</td>\n",
       "      <td>26.68</td>\n",
       "      <td>4,639.85</td>\n",
       "    </tr>\n",
       "    <tr>\n",
       "      <th>10783</th>\n",
       "      <td>99</td>\n",
       "      <td>1.00</td>\n",
       "      <td>39.65</td>\n",
       "      <td>23.78</td>\n",
       "      <td>7.00</td>\n",
       "      <td>11</td>\n",
       "      <td>12.00</td>\n",
       "      <td>1976</td>\n",
       "      <td>0.01</td>\n",
       "      <td>1</td>\n",
       "      <td>...</td>\n",
       "      <td>1</td>\n",
       "      <td>2,078.00</td>\n",
       "      <td>2</td>\n",
       "      <td>4</td>\n",
       "      <td>1</td>\n",
       "      <td>150,226.53</td>\n",
       "      <td>3,788.89</td>\n",
       "      <td>3,992.03</td>\n",
       "      <td>39.65</td>\n",
       "      <td>4,257.37</td>\n",
       "    </tr>\n",
       "  </tbody>\n",
       "</table>\n",
       "<p>5 rows × 23 columns</p>\n",
       "</div>"
      ],
      "text/plain": [
       "      DistrictId  Rooms  Square  LifeSquare  KitchenSquare  Floor  HouseFloor  \\\n",
       "Id                                                                              \n",
       "14038         35   2.00   47.98       29.44           6.00      7        9.00   \n",
       "15053         41   3.00   65.68       40.05           8.00      7        9.00   \n",
       "4765          53   2.00   44.95       29.20           0.00      8       12.00   \n",
       "5809          58   2.00   53.35       52.73           9.00      8       17.00   \n",
       "10783         99   1.00   39.65       23.78           7.00     11       12.00   \n",
       "\n",
       "       HouseYear  Ecology_1  Ecology_2  ...  Social_3  Healthcare_1  \\\n",
       "Id                                      ...                           \n",
       "14038       1969       0.09          1  ...         5        540.00   \n",
       "15053       1978       0.00          1  ...         1        240.00   \n",
       "4765        1968       0.05          1  ...         0        229.00   \n",
       "5809        1977       0.44          1  ...         3      1,084.00   \n",
       "10783       1976       0.01          1  ...         1      2,078.00   \n",
       "\n",
       "       Helthcare_2  Shops_1  Shops_2      Price  PriceOneM2  \\\n",
       "Id                                                            \n",
       "14038            0       11        1 184,966.93    3,854.96   \n",
       "15053            1       16        1 300,009.45    4,567.49   \n",
       "4765             1        3        1 220,925.91    4,915.15   \n",
       "5809             0        5        1 175,616.23    3,291.59   \n",
       "10783            2        4        1 150,226.53    3,788.89   \n",
       "\n",
       "       PriceOneM2ByDistrict  RoomSquare  PriceOneMBySocial1  \n",
       "Id                                                           \n",
       "14038              4,358.27       23.99            4,455.06  \n",
       "15053              4,437.30       21.89            4,807.59  \n",
       "4765               4,845.92       22.47            4,191.95  \n",
       "5809               2,949.98       26.68            4,639.85  \n",
       "10783              3,992.03       39.65            4,257.37  \n",
       "\n",
       "[5 rows x 23 columns]"
      ]
     },
     "execution_count": 94,
     "metadata": {},
     "output_type": "execute_result"
    }
   ],
   "source": [
    "train_df.head()"
   ]
  },
  {
   "cell_type": "code",
   "execution_count": 95,
   "metadata": {
    "scrolled": true
   },
   "outputs": [
    {
     "data": {
      "text/html": [
       "<div>\n",
       "<style scoped>\n",
       "    .dataframe tbody tr th:only-of-type {\n",
       "        vertical-align: middle;\n",
       "    }\n",
       "\n",
       "    .dataframe tbody tr th {\n",
       "        vertical-align: top;\n",
       "    }\n",
       "\n",
       "    .dataframe thead th {\n",
       "        text-align: right;\n",
       "    }\n",
       "</style>\n",
       "<table border=\"1\" class=\"dataframe\">\n",
       "  <thead>\n",
       "    <tr style=\"text-align: right;\">\n",
       "      <th></th>\n",
       "      <th>DistrictId</th>\n",
       "      <th>Rooms</th>\n",
       "      <th>Square</th>\n",
       "      <th>LifeSquare</th>\n",
       "      <th>KitchenSquare</th>\n",
       "      <th>Floor</th>\n",
       "      <th>HouseFloor</th>\n",
       "      <th>HouseYear</th>\n",
       "      <th>Ecology_1</th>\n",
       "      <th>Ecology_2</th>\n",
       "      <th>...</th>\n",
       "      <th>Social_1</th>\n",
       "      <th>Social_2</th>\n",
       "      <th>Social_3</th>\n",
       "      <th>Healthcare_1</th>\n",
       "      <th>Helthcare_2</th>\n",
       "      <th>Shops_1</th>\n",
       "      <th>Shops_2</th>\n",
       "      <th>PriceOneM2ByDistrict</th>\n",
       "      <th>RoomSquare</th>\n",
       "      <th>PriceOneMBySocial1</th>\n",
       "    </tr>\n",
       "    <tr>\n",
       "      <th>Id</th>\n",
       "      <th></th>\n",
       "      <th></th>\n",
       "      <th></th>\n",
       "      <th></th>\n",
       "      <th></th>\n",
       "      <th></th>\n",
       "      <th></th>\n",
       "      <th></th>\n",
       "      <th></th>\n",
       "      <th></th>\n",
       "      <th></th>\n",
       "      <th></th>\n",
       "      <th></th>\n",
       "      <th></th>\n",
       "      <th></th>\n",
       "      <th></th>\n",
       "      <th></th>\n",
       "      <th></th>\n",
       "      <th></th>\n",
       "      <th></th>\n",
       "      <th></th>\n",
       "    </tr>\n",
       "  </thead>\n",
       "  <tbody>\n",
       "    <tr>\n",
       "      <th>725</th>\n",
       "      <td>58</td>\n",
       "      <td>2.00</td>\n",
       "      <td>49.88</td>\n",
       "      <td>33.43</td>\n",
       "      <td>6.00</td>\n",
       "      <td>6</td>\n",
       "      <td>14.00</td>\n",
       "      <td>1972</td>\n",
       "      <td>0.31</td>\n",
       "      <td>1</td>\n",
       "      <td>...</td>\n",
       "      <td>11</td>\n",
       "      <td>2748</td>\n",
       "      <td>1</td>\n",
       "      <td>540.00</td>\n",
       "      <td>0</td>\n",
       "      <td>0</td>\n",
       "      <td>1</td>\n",
       "      <td>2,949.98</td>\n",
       "      <td>24.94</td>\n",
       "      <td>3,253.80</td>\n",
       "    </tr>\n",
       "    <tr>\n",
       "      <th>15856</th>\n",
       "      <td>74</td>\n",
       "      <td>2.00</td>\n",
       "      <td>69.26</td>\n",
       "      <td>68.26</td>\n",
       "      <td>1.00</td>\n",
       "      <td>6</td>\n",
       "      <td>6.00</td>\n",
       "      <td>1977</td>\n",
       "      <td>0.08</td>\n",
       "      <td>1</td>\n",
       "      <td>...</td>\n",
       "      <td>6</td>\n",
       "      <td>1437</td>\n",
       "      <td>3</td>\n",
       "      <td>540.00</td>\n",
       "      <td>0</td>\n",
       "      <td>2</td>\n",
       "      <td>1</td>\n",
       "      <td>3,319.32</td>\n",
       "      <td>34.63</td>\n",
       "      <td>2,730.89</td>\n",
       "    </tr>\n",
       "    <tr>\n",
       "      <th>5480</th>\n",
       "      <td>190</td>\n",
       "      <td>1.00</td>\n",
       "      <td>13.60</td>\n",
       "      <td>1.60</td>\n",
       "      <td>12.00</td>\n",
       "      <td>2</td>\n",
       "      <td>5.00</td>\n",
       "      <td>1909</td>\n",
       "      <td>0.00</td>\n",
       "      <td>1</td>\n",
       "      <td>...</td>\n",
       "      <td>30</td>\n",
       "      <td>7538</td>\n",
       "      <td>87</td>\n",
       "      <td>4,702.00</td>\n",
       "      <td>5</td>\n",
       "      <td>5</td>\n",
       "      <td>1</td>\n",
       "      <td>8,645.17</td>\n",
       "      <td>13.60</td>\n",
       "      <td>4,302.80</td>\n",
       "    </tr>\n",
       "    <tr>\n",
       "      <th>15664</th>\n",
       "      <td>47</td>\n",
       "      <td>2.00</td>\n",
       "      <td>73.05</td>\n",
       "      <td>51.94</td>\n",
       "      <td>9.00</td>\n",
       "      <td>22</td>\n",
       "      <td>22.00</td>\n",
       "      <td>2007</td>\n",
       "      <td>0.10</td>\n",
       "      <td>1</td>\n",
       "      <td>...</td>\n",
       "      <td>23</td>\n",
       "      <td>4583</td>\n",
       "      <td>3</td>\n",
       "      <td>1,145.00</td>\n",
       "      <td>3</td>\n",
       "      <td>3</td>\n",
       "      <td>1</td>\n",
       "      <td>4,181.96</td>\n",
       "      <td>36.52</td>\n",
       "      <td>4,639.85</td>\n",
       "    </tr>\n",
       "    <tr>\n",
       "      <th>14275</th>\n",
       "      <td>27</td>\n",
       "      <td>1.00</td>\n",
       "      <td>47.53</td>\n",
       "      <td>43.39</td>\n",
       "      <td>1.00</td>\n",
       "      <td>17</td>\n",
       "      <td>17.00</td>\n",
       "      <td>2017</td>\n",
       "      <td>0.07</td>\n",
       "      <td>1</td>\n",
       "      <td>...</td>\n",
       "      <td>2</td>\n",
       "      <td>629</td>\n",
       "      <td>1</td>\n",
       "      <td>540.00</td>\n",
       "      <td>0</td>\n",
       "      <td>0</td>\n",
       "      <td>0</td>\n",
       "      <td>2,761.27</td>\n",
       "      <td>47.53</td>\n",
       "      <td>2,740.82</td>\n",
       "    </tr>\n",
       "  </tbody>\n",
       "</table>\n",
       "<p>5 rows × 21 columns</p>\n",
       "</div>"
      ],
      "text/plain": [
       "      DistrictId  Rooms  Square  LifeSquare  KitchenSquare  Floor  HouseFloor  \\\n",
       "Id                                                                              \n",
       "725           58   2.00   49.88       33.43           6.00      6       14.00   \n",
       "15856         74   2.00   69.26       68.26           1.00      6        6.00   \n",
       "5480         190   1.00   13.60        1.60          12.00      2        5.00   \n",
       "15664         47   2.00   73.05       51.94           9.00     22       22.00   \n",
       "14275         27   1.00   47.53       43.39           1.00     17       17.00   \n",
       "\n",
       "       HouseYear  Ecology_1  Ecology_2  ...  Social_1  Social_2  Social_3  \\\n",
       "Id                                      ...                                 \n",
       "725         1972       0.31          1  ...        11      2748         1   \n",
       "15856       1977       0.08          1  ...         6      1437         3   \n",
       "5480        1909       0.00          1  ...        30      7538        87   \n",
       "15664       2007       0.10          1  ...        23      4583         3   \n",
       "14275       2017       0.07          1  ...         2       629         1   \n",
       "\n",
       "       Healthcare_1  Helthcare_2  Shops_1  Shops_2  PriceOneM2ByDistrict  \\\n",
       "Id                                                                         \n",
       "725          540.00            0        0        1              2,949.98   \n",
       "15856        540.00            0        2        1              3,319.32   \n",
       "5480       4,702.00            5        5        1              8,645.17   \n",
       "15664      1,145.00            3        3        1              4,181.96   \n",
       "14275        540.00            0        0        0              2,761.27   \n",
       "\n",
       "       RoomSquare  PriceOneMBySocial1  \n",
       "Id                                     \n",
       "725         24.94            3,253.80  \n",
       "15856       34.63            2,730.89  \n",
       "5480        13.60            4,302.80  \n",
       "15664       36.52            4,639.85  \n",
       "14275       47.53            2,740.82  \n",
       "\n",
       "[5 rows x 21 columns]"
      ]
     },
     "execution_count": 95,
     "metadata": {},
     "output_type": "execute_result"
    }
   ],
   "source": [
    "test_df.head()"
   ]
  },
  {
   "cell_type": "markdown",
   "metadata": {},
   "source": [
    "## Отбор признаков"
   ]
  },
  {
   "cell_type": "code",
   "execution_count": 189,
   "metadata": {},
   "outputs": [],
   "source": [
    "train_df.to_csv('train_prepared.csv')\n",
    "test_df.to_csv('test_prepared.csv')"
   ]
  },
  {
   "cell_type": "code",
   "execution_count": 190,
   "metadata": {},
   "outputs": [
    {
     "data": {
      "text/plain": [
       "['DistrictId',\n",
       " 'Rooms',\n",
       " 'Square',\n",
       " 'LifeSquare',\n",
       " 'KitchenSquare',\n",
       " 'Floor',\n",
       " 'HouseFloor',\n",
       " 'HouseYear',\n",
       " 'Ecology_1',\n",
       " 'Ecology_2',\n",
       " 'Ecology_3',\n",
       " 'Social_1',\n",
       " 'Social_2',\n",
       " 'Social_3',\n",
       " 'Healthcare_1',\n",
       " 'Helthcare_2',\n",
       " 'Shops_1',\n",
       " 'Shops_2',\n",
       " 'Price',\n",
       " 'PriceOneM2',\n",
       " 'PriceOneM2ByDistrict',\n",
       " 'RoomSquare',\n",
       " 'PriceOneMBySocial1']"
      ]
     },
     "execution_count": 190,
     "metadata": {},
     "output_type": "execute_result"
    }
   ],
   "source": [
    "feature_names = train_df.columns\n",
    "feature_names.tolist()"
   ]
  },
  {
   "cell_type": "code",
   "execution_count": 251,
   "metadata": {},
   "outputs": [],
   "source": [
    "target_name = ['Price']\n",
    "feature_names = [\n",
    "# 'DistrictId', снижает R2\n",
    " 'Rooms',\n",
    " 'Square',\n",
    " 'LifeSquare',\n",
    " 'KitchenSquare',\n",
    " 'Floor',\n",
    " 'HouseFloor',\n",
    " 'HouseYear',\n",
    " 'Ecology_1',\n",
    "# 'Ecology_2',\n",
    "# 'Ecology_3',\n",
    " 'Social_1',\n",
    " 'Social_2',\n",
    " 'Social_3',\n",
    " 'Healthcare_1',\n",
    " 'Helthcare_2',\n",
    " 'Shops_1',\n",
    " 'Shops_2',\n",
    "# 'Price',\n",
    "# 'PriceOneM2',\n",
    " 'PriceOneM2ByDistrict',\n",
    "# 'RoomSquare', - важность последних 2-х признаков высокая, но без них R2 выше\n",
    "# 'PriceOneMBySocial1' \n",
    "]"
   ]
  },
  {
   "cell_type": "code",
   "execution_count": 242,
   "metadata": {},
   "outputs": [],
   "source": [
    "X = train_df[feature_names]\n",
    "y = train_df[target_name]\n",
    "\n",
    "X_test = test_df[feature_names]"
   ]
  },
  {
   "cell_type": "code",
   "execution_count": 243,
   "metadata": {
    "scrolled": true
   },
   "outputs": [
    {
     "data": {
      "text/plain": [
       "16"
      ]
     },
     "execution_count": 243,
     "metadata": {},
     "output_type": "execute_result"
    }
   ],
   "source": [
    "len(feature_names)"
   ]
  },
  {
   "cell_type": "markdown",
   "metadata": {},
   "source": [
    "## Построение модели"
   ]
  },
  {
   "cell_type": "markdown",
   "metadata": {},
   "source": [
    "#### Перекрестная проверка модели"
   ]
  },
  {
   "cell_type": "code",
   "execution_count": 244,
   "metadata": {},
   "outputs": [
    {
     "name": "stdout",
     "output_type": "stream",
     "text": [
      "(10000, 16) (10000, 1) (5000, 16)\n"
     ]
    }
   ],
   "source": [
    "print(X.shape, y.shape, X_test.shape)"
   ]
  },
  {
   "cell_type": "code",
   "execution_count": 245,
   "metadata": {},
   "outputs": [],
   "source": [
    "forest = RandomForestRegressor(max_depth=15, \n",
    "                               max_features=5, \n",
    "                               n_estimators=200,\n",
    "                               random_state=42)"
   ]
  },
  {
   "cell_type": "code",
   "execution_count": 246,
   "metadata": {},
   "outputs": [
    {
     "name": "stdout",
     "output_type": "stream",
     "text": [
      "R2: 0.76573\n"
     ]
    }
   ],
   "source": [
    "kf = KFold(n_splits=10, random_state=42, shuffle=True)\n",
    "\n",
    "cv_score = cross_val_score(forest, X, y, scoring='r2', cv=kf)\n",
    "print('R2: {:.5f}'.format(cv_score.mean()))\n",
    "# R2: 0.76573"
   ]
  },
  {
   "cell_type": "markdown",
   "metadata": {},
   "source": [
    "#### Важность признаков"
   ]
  },
  {
   "cell_type": "code",
   "execution_count": 247,
   "metadata": {},
   "outputs": [],
   "source": [
    "forest.fit(X, y)\n",
    "importances = forest.feature_importances_\n",
    "feat_importances = pd.Series(importances, index=feature_names)\n",
    "feat_importances.sort_values(ascending=True, inplace=True)"
   ]
  },
  {
   "cell_type": "code",
   "execution_count": 248,
   "metadata": {},
   "outputs": [
    {
     "data": {
      "image/png": "[encoded data removed]",
      "text/plain": [
       "<Figure size 720x432 with 1 Axes>"
      ]
     },
     "metadata": {},
     "output_type": "display_data"
    }
   ],
   "source": [
    "feat_importances.plot(kind='barh', figsize=(10, 6));"
   ]
  },
  {
   "cell_type": "markdown",
   "metadata": {},
   "source": [
    "#### Настройка гиперпараметров модели"
   ]
  },
  {
   "cell_type": "code",
   "execution_count": 249,
   "metadata": {},
   "outputs": [],
   "source": [
    "params = {\n",
    "    'n_estimators': [200],\n",
    "    'max_depth': [15,16,17],\n",
    "    'max_features': [5,6,7]\n",
    "}"
   ]
  },
  {
   "cell_type": "code",
   "execution_count": 250,
   "metadata": {
    "scrolled": true
   },
   "outputs": [
    {
     "name": "stdout",
     "output_type": "stream",
     "text": [
      "{'max_depth': 15, 'max_features': 5, 'n_estimators': 200}\n",
      "R2 на train: 0.76573\n"
     ]
    }
   ],
   "source": [
    "forest_grid = GridSearchCV(forest, params, scoring='r2', \n",
    "                  cv=KFold(n_splits=10, random_state=42, shuffle=True), \n",
    "                  n_jobs=-1)\n",
    "forest_grid.fit(X, y)\n",
    "print(forest_grid.best_params_)\n",
    "print('R2 на train: {:.5f}'.format(forest_grid.best_score_))\n",
    "# время обработки 3 мин\n",
    "# {'max_depth': 15, 'max_features': 5, 'n_estimators': 200}\n",
    "# R2 на train: 0.76573"
   ]
  },
  {
   "cell_type": "code",
   "execution_count": 147,
   "metadata": {},
   "outputs": [],
   "source": [
    "# GradientBoostingRegressor показывает меньший R2 0.74661"
   ]
  },
  {
   "cell_type": "markdown",
   "metadata": {},
   "source": [
    "## Прогнозирование на тестовом датасете"
   ]
  },
  {
   "cell_type": "code",
   "execution_count": 252,
   "metadata": {},
   "outputs": [],
   "source": [
    "forest_best = forest_grid.best_estimator_"
   ]
  },
  {
   "cell_type": "code",
   "execution_count": 253,
   "metadata": {},
   "outputs": [],
   "source": [
    "y_pred = forest_best.predict(X_test)"
   ]
  },
  {
   "cell_type": "code",
   "execution_count": 254,
   "metadata": {},
   "outputs": [
    {
     "data": {
      "text/html": [
       "<div>\n",
       "<style scoped>\n",
       "    .dataframe tbody tr th:only-of-type {\n",
       "        vertical-align: middle;\n",
       "    }\n",
       "\n",
       "    .dataframe tbody tr th {\n",
       "        vertical-align: top;\n",
       "    }\n",
       "\n",
       "    .dataframe thead th {\n",
       "        text-align: right;\n",
       "    }\n",
       "</style>\n",
       "<table border=\"1\" class=\"dataframe\">\n",
       "  <thead>\n",
       "    <tr style=\"text-align: right;\">\n",
       "      <th></th>\n",
       "      <th>Id</th>\n",
       "      <th>Price</th>\n",
       "    </tr>\n",
       "  </thead>\n",
       "  <tbody>\n",
       "    <tr>\n",
       "      <th>0</th>\n",
       "      <td>725</td>\n",
       "      <td>161,685.89</td>\n",
       "    </tr>\n",
       "    <tr>\n",
       "      <th>1</th>\n",
       "      <td>15856</td>\n",
       "      <td>231,525.19</td>\n",
       "    </tr>\n",
       "    <tr>\n",
       "      <th>2</th>\n",
       "      <td>5480</td>\n",
       "      <td>275,810.51</td>\n",
       "    </tr>\n",
       "    <tr>\n",
       "      <th>3</th>\n",
       "      <td>15664</td>\n",
       "      <td>306,480.99</td>\n",
       "    </tr>\n",
       "    <tr>\n",
       "      <th>4</th>\n",
       "      <td>14275</td>\n",
       "      <td>142,105.36</td>\n",
       "    </tr>\n",
       "  </tbody>\n",
       "</table>\n",
       "</div>"
      ],
      "text/plain": [
       "      Id      Price\n",
       "0    725 161,685.89\n",
       "1  15856 231,525.19\n",
       "2   5480 275,810.51\n",
       "3  15664 306,480.99\n",
       "4  14275 142,105.36"
      ]
     },
     "execution_count": 254,
     "metadata": {},
     "output_type": "execute_result"
    }
   ],
   "source": [
    "preds = pd.DataFrame()\n",
    "preds['Id'] = X_test.index\n",
    "preds['Price'] = y_pred\n",
    "preds.head()"
   ]
  },
  {
   "cell_type": "code",
   "execution_count": 255,
   "metadata": {},
   "outputs": [],
   "source": [
    "preds.to_csv('AnnaRusinova_predicrions.csv', index=False)"
   ]
  }
 ],
 "metadata": {
  "kernelspec": {
   "display_name": "Python 3",
   "language": "python",
   "name": "python3"
  },
  "language_info": {
   "codemirror_mode": {
    "name": "ipython",
    "version": 3
   },
   "file_extension": ".py",
   "mimetype": "text/x-python",
   "name": "python",
   "nbconvert_exporter": "python",
   "pygments_lexer": "ipython3",
   "version": "3.8.3"
  }
 },
 "nbformat": 4,
 "nbformat_minor": 4
}
